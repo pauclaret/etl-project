{
 "cells": [
  {
   "cell_type": "code",
   "execution_count": 19,
   "id": "18937cc4",
   "metadata": {},
   "outputs": [],
   "source": [
    "import pandas as pd\n",
    "import requests"
   ]
  },
  {
   "cell_type": "markdown",
   "id": "8fa7e285",
   "metadata": {},
   "source": [
    "### Extraer datos"
   ]
  },
  {
   "cell_type": "code",
   "execution_count": 20,
   "id": "301c55c3",
   "metadata": {},
   "outputs": [],
   "source": [
    "url = \"https://officeapi.dev/api/characters/\""
   ]
  },
  {
   "cell_type": "code",
   "execution_count": 21,
   "id": "5e994703",
   "metadata": {},
   "outputs": [],
   "source": [
    "res = requests.get(url)"
   ]
  },
  {
   "cell_type": "code",
   "execution_count": 22,
   "id": "3dcc8cfc",
   "metadata": {},
   "outputs": [
    {
     "data": {
      "text/plain": [
       "200"
      ]
     },
     "execution_count": 22,
     "metadata": {},
     "output_type": "execute_result"
    }
   ],
   "source": [
    "res.status_code"
   ]
  },
  {
   "cell_type": "code",
   "execution_count": 23,
   "id": "fef1a33f",
   "metadata": {},
   "outputs": [
    {
     "data": {
      "text/plain": [
       "{'data': [{'_id': '5e93b4a43af44260882e33b0',\n",
       "   'firstname': 'Michael',\n",
       "   'lastname': 'Scott',\n",
       "   '__v': 0},\n",
       "  {'_id': '5e93b4f03af44260882e33b1',\n",
       "   'firstname': 'Jim',\n",
       "   'lastname': 'Halpert',\n",
       "   '__v': 0},\n",
       "  {'_id': '5e93b4fa3af44260882e33b2',\n",
       "   'firstname': 'Dwight',\n",
       "   'lastname': 'Schrute',\n",
       "   '__v': 0},\n",
       "  {'_id': '5e93b50a3af44260882e33b3',\n",
       "   'firstname': 'Pam',\n",
       "   'lastname': 'Beesly',\n",
       "   '__v': 0},\n",
       "  {'_id': '5e93b5183af44260882e33b4',\n",
       "   'firstname': 'Ryan',\n",
       "   'lastname': 'Howard',\n",
       "   '__v': 0},\n",
       "  {'_id': '5e93b51e3af44260882e33b5',\n",
       "   'firstname': 'Kelly',\n",
       "   'lastname': 'Kapoor',\n",
       "   '__v': 0},\n",
       "  {'_id': '5e93b52b3af44260882e33b6',\n",
       "   'firstname': 'Angela',\n",
       "   'lastname': 'Martin',\n",
       "   '__v': 0},\n",
       "  {'_id': '5e93b5323af44260882e33b7',\n",
       "   'firstname': 'Kevin',\n",
       "   'lastname': 'Malone',\n",
       "   '__v': 0},\n",
       "  {'_id': '5e93b53b3af44260882e33b8',\n",
       "   'firstname': 'Oscar',\n",
       "   'lastname': 'Martinez',\n",
       "   '__v': 0},\n",
       "  {'_id': '5e93b5453af44260882e33b9',\n",
       "   'firstname': 'Andy',\n",
       "   'lastname': 'Bernard',\n",
       "   '__v': 0},\n",
       "  {'_id': '5e93b54d3af44260882e33ba',\n",
       "   'firstname': 'Stanley',\n",
       "   'lastname': 'Hudson',\n",
       "   '__v': 0},\n",
       "  {'_id': '5e93b5583af44260882e33bb',\n",
       "   'firstname': 'Phyllis',\n",
       "   'lastname': 'Lapin',\n",
       "   '__v': 0},\n",
       "  {'_id': '5e93b55f3af44260882e33bc',\n",
       "   'firstname': 'Toby',\n",
       "   'lastname': 'Flenderson',\n",
       "   '__v': 0},\n",
       "  {'_id': '5e93b5653af44260882e33bd',\n",
       "   'firstname': 'Erin',\n",
       "   'lastname': 'Hannon',\n",
       "   '__v': 0},\n",
       "  {'_id': '5e93b56d3af44260882e33be',\n",
       "   'firstname': 'Gabe',\n",
       "   'lastname': 'Lewis',\n",
       "   '__v': 0},\n",
       "  {'_id': '5e93b5783af44260882e33bf',\n",
       "   'firstname': 'Darryl',\n",
       "   'lastname': 'Philbin',\n",
       "   '__v': 0},\n",
       "  {'_id': '5e93b5813af44260882e33c0',\n",
       "   'firstname': 'Creed',\n",
       "   'lastname': 'Bratton',\n",
       "   '__v': 0},\n",
       "  {'_id': '5e93b58b3af44260882e33c1',\n",
       "   'firstname': 'Jo',\n",
       "   'lastname': 'Bennett',\n",
       "   '__v': 0},\n",
       "  {'_id': '5e93b5913af44260882e33c2',\n",
       "   'firstname': 'Holly',\n",
       "   'lastname': 'Flax',\n",
       "   '__v': 0},\n",
       "  {'_id': '5e93b5983af44260882e33c3',\n",
       "   'firstname': 'Jan',\n",
       "   'lastname': 'Levinson',\n",
       "   '__v': 0},\n",
       "  {'_id': '5e93b5a13af44260882e33c4',\n",
       "   'firstname': 'Todd',\n",
       "   'lastname': 'Packer',\n",
       "   '__v': 0},\n",
       "  {'_id': '5e93b5a73af44260882e33c5',\n",
       "   'firstname': 'Charles',\n",
       "   'lastname': 'Minor',\n",
       "   '__v': 0},\n",
       "  {'_id': '5e93b5ad3af44260882e33c6',\n",
       "   'firstname': 'Deangelo',\n",
       "   'lastname': 'Vickers',\n",
       "   '__v': 0},\n",
       "  {'_id': '5e93b5b63af44260882e33c7',\n",
       "   'firstname': 'Josh',\n",
       "   'lastname': 'Porter',\n",
       "   '__v': 0},\n",
       "  {'_id': '5e93b5bb3af44260882e33c8',\n",
       "   'firstname': 'Ed',\n",
       "   'lastname': 'Truck',\n",
       "   '__v': 0},\n",
       "  {'_id': '5e93b5c53af44260882e33c9',\n",
       "   'firstname': 'Hunter',\n",
       "   'lastname': 'null',\n",
       "   '__v': 0},\n",
       "  {'_id': '5e93b5d13af44260882e33ca',\n",
       "   'firstname': 'David',\n",
       "   'lastname': 'Wallace',\n",
       "   '__v': 0},\n",
       "  {'_id': '62820d17e1c40d122cd90b32',\n",
       "   'firstname': 'David',\n",
       "   'lastname': 'Kirui',\n",
       "   '__v': 0}]}"
      ]
     },
     "execution_count": 23,
     "metadata": {},
     "output_type": "execute_result"
    }
   ],
   "source": [
    "res_prueba = res.json()\n",
    "res_prueba"
   ]
  },
  {
   "cell_type": "code",
   "execution_count": 24,
   "id": "525aebf9",
   "metadata": {},
   "outputs": [],
   "source": [
    "l = []\n",
    "for d in res_prueba:\n",
    "    for value in res_prueba.values():\n",
    "        l.append(value)\n",
    "l = l[0]"
   ]
  },
  {
   "cell_type": "code",
   "execution_count": 25,
   "id": "0a94aff5",
   "metadata": {},
   "outputs": [
    {
     "data": {
      "text/plain": [
       "[{'_id': '5e93b4a43af44260882e33b0',\n",
       "  'firstname': 'Michael',\n",
       "  'lastname': 'Scott',\n",
       "  '__v': 0},\n",
       " {'_id': '5e93b4f03af44260882e33b1',\n",
       "  'firstname': 'Jim',\n",
       "  'lastname': 'Halpert',\n",
       "  '__v': 0},\n",
       " {'_id': '5e93b4fa3af44260882e33b2',\n",
       "  'firstname': 'Dwight',\n",
       "  'lastname': 'Schrute',\n",
       "  '__v': 0}]"
      ]
     },
     "execution_count": 25,
     "metadata": {},
     "output_type": "execute_result"
    }
   ],
   "source": [
    "l[:3]"
   ]
  },
  {
   "cell_type": "code",
   "execution_count": 26,
   "id": "c7141fdc",
   "metadata": {},
   "outputs": [
    {
     "data": {
      "text/html": [
       "<div>\n",
       "<style scoped>\n",
       "    .dataframe tbody tr th:only-of-type {\n",
       "        vertical-align: middle;\n",
       "    }\n",
       "\n",
       "    .dataframe tbody tr th {\n",
       "        vertical-align: top;\n",
       "    }\n",
       "\n",
       "    .dataframe thead th {\n",
       "        text-align: right;\n",
       "    }\n",
       "</style>\n",
       "<table border=\"1\" class=\"dataframe\">\n",
       "  <thead>\n",
       "    <tr style=\"text-align: right;\">\n",
       "      <th></th>\n",
       "      <th>_id</th>\n",
       "      <th>firstname</th>\n",
       "      <th>lastname</th>\n",
       "      <th>__v</th>\n",
       "    </tr>\n",
       "  </thead>\n",
       "  <tbody>\n",
       "    <tr>\n",
       "      <th>0</th>\n",
       "      <td>5e93b4a43af44260882e33b0</td>\n",
       "      <td>Michael</td>\n",
       "      <td>Scott</td>\n",
       "      <td>0</td>\n",
       "    </tr>\n",
       "    <tr>\n",
       "      <th>1</th>\n",
       "      <td>5e93b4f03af44260882e33b1</td>\n",
       "      <td>Jim</td>\n",
       "      <td>Halpert</td>\n",
       "      <td>0</td>\n",
       "    </tr>\n",
       "    <tr>\n",
       "      <th>2</th>\n",
       "      <td>5e93b4fa3af44260882e33b2</td>\n",
       "      <td>Dwight</td>\n",
       "      <td>Schrute</td>\n",
       "      <td>0</td>\n",
       "    </tr>\n",
       "    <tr>\n",
       "      <th>3</th>\n",
       "      <td>5e93b50a3af44260882e33b3</td>\n",
       "      <td>Pam</td>\n",
       "      <td>Beesly</td>\n",
       "      <td>0</td>\n",
       "    </tr>\n",
       "    <tr>\n",
       "      <th>4</th>\n",
       "      <td>5e93b5183af44260882e33b4</td>\n",
       "      <td>Ryan</td>\n",
       "      <td>Howard</td>\n",
       "      <td>0</td>\n",
       "    </tr>\n",
       "  </tbody>\n",
       "</table>\n",
       "</div>"
      ],
      "text/plain": [
       "                        _id firstname lastname  __v\n",
       "0  5e93b4a43af44260882e33b0   Michael    Scott    0\n",
       "1  5e93b4f03af44260882e33b1       Jim  Halpert    0\n",
       "2  5e93b4fa3af44260882e33b2    Dwight  Schrute    0\n",
       "3  5e93b50a3af44260882e33b3       Pam   Beesly    0\n",
       "4  5e93b5183af44260882e33b4      Ryan   Howard    0"
      ]
     },
     "execution_count": 26,
     "metadata": {},
     "output_type": "execute_result"
    }
   ],
   "source": [
    "df = pd.DataFrame(l)\n",
    "df.head()"
   ]
  },
  {
   "cell_type": "code",
   "execution_count": 27,
   "id": "9a4ecb78",
   "metadata": {},
   "outputs": [
    {
     "data": {
      "text/html": [
       "<div>\n",
       "<style scoped>\n",
       "    .dataframe tbody tr th:only-of-type {\n",
       "        vertical-align: middle;\n",
       "    }\n",
       "\n",
       "    .dataframe tbody tr th {\n",
       "        vertical-align: top;\n",
       "    }\n",
       "\n",
       "    .dataframe thead th {\n",
       "        text-align: right;\n",
       "    }\n",
       "</style>\n",
       "<table border=\"1\" class=\"dataframe\">\n",
       "  <thead>\n",
       "    <tr style=\"text-align: right;\">\n",
       "      <th></th>\n",
       "      <th>firstname</th>\n",
       "      <th>lastname</th>\n",
       "    </tr>\n",
       "  </thead>\n",
       "  <tbody>\n",
       "    <tr>\n",
       "      <th>0</th>\n",
       "      <td>Michael</td>\n",
       "      <td>Scott</td>\n",
       "    </tr>\n",
       "    <tr>\n",
       "      <th>1</th>\n",
       "      <td>Jim</td>\n",
       "      <td>Halpert</td>\n",
       "    </tr>\n",
       "    <tr>\n",
       "      <th>2</th>\n",
       "      <td>Dwight</td>\n",
       "      <td>Schrute</td>\n",
       "    </tr>\n",
       "    <tr>\n",
       "      <th>3</th>\n",
       "      <td>Pam</td>\n",
       "      <td>Beesly</td>\n",
       "    </tr>\n",
       "    <tr>\n",
       "      <th>4</th>\n",
       "      <td>Ryan</td>\n",
       "      <td>Howard</td>\n",
       "    </tr>\n",
       "  </tbody>\n",
       "</table>\n",
       "</div>"
      ],
      "text/plain": [
       "  firstname lastname\n",
       "0   Michael    Scott\n",
       "1       Jim  Halpert\n",
       "2    Dwight  Schrute\n",
       "3       Pam   Beesly\n",
       "4      Ryan   Howard"
      ]
     },
     "execution_count": 27,
     "metadata": {},
     "output_type": "execute_result"
    }
   ],
   "source": [
    "df.drop([\"__v\", \"_id\"], axis = 1, inplace = True)\n",
    "df.head()"
   ]
  },
  {
   "cell_type": "code",
   "execution_count": 28,
   "id": "d5ab73e2",
   "metadata": {},
   "outputs": [],
   "source": [
    "df.loc[df[\"lastname\"] == \"Minor\", \"lastname\"] = \"Miner\""
   ]
  },
  {
   "cell_type": "code",
   "execution_count": 29,
   "id": "1833f3b5",
   "metadata": {},
   "outputs": [],
   "source": [
    "df = df.rename(columns = {\"firstname\": \"first_name\", \"lastname\": \"last_name\"})"
   ]
  },
  {
   "cell_type": "code",
   "execution_count": 30,
   "id": "c2a35ab6",
   "metadata": {},
   "outputs": [
    {
     "data": {
      "text/html": [
       "<div>\n",
       "<style scoped>\n",
       "    .dataframe tbody tr th:only-of-type {\n",
       "        vertical-align: middle;\n",
       "    }\n",
       "\n",
       "    .dataframe tbody tr th {\n",
       "        vertical-align: top;\n",
       "    }\n",
       "\n",
       "    .dataframe thead th {\n",
       "        text-align: right;\n",
       "    }\n",
       "</style>\n",
       "<table border=\"1\" class=\"dataframe\">\n",
       "  <thead>\n",
       "    <tr style=\"text-align: right;\">\n",
       "      <th></th>\n",
       "      <th>first_name</th>\n",
       "      <th>last_name</th>\n",
       "      <th>complete_name</th>\n",
       "    </tr>\n",
       "  </thead>\n",
       "  <tbody>\n",
       "    <tr>\n",
       "      <th>0</th>\n",
       "      <td>Michael</td>\n",
       "      <td>Scott</td>\n",
       "      <td>Michael Scott</td>\n",
       "    </tr>\n",
       "    <tr>\n",
       "      <th>1</th>\n",
       "      <td>Jim</td>\n",
       "      <td>Halpert</td>\n",
       "      <td>Jim Halpert</td>\n",
       "    </tr>\n",
       "    <tr>\n",
       "      <th>2</th>\n",
       "      <td>Dwight</td>\n",
       "      <td>Schrute</td>\n",
       "      <td>Dwight Schrute</td>\n",
       "    </tr>\n",
       "    <tr>\n",
       "      <th>3</th>\n",
       "      <td>Pam</td>\n",
       "      <td>Beesly</td>\n",
       "      <td>Pam Beesly</td>\n",
       "    </tr>\n",
       "    <tr>\n",
       "      <th>4</th>\n",
       "      <td>Ryan</td>\n",
       "      <td>Howard</td>\n",
       "      <td>Ryan Howard</td>\n",
       "    </tr>\n",
       "  </tbody>\n",
       "</table>\n",
       "</div>"
      ],
      "text/plain": [
       "  first_name last_name   complete_name\n",
       "0    Michael     Scott   Michael Scott\n",
       "1        Jim   Halpert     Jim Halpert\n",
       "2     Dwight   Schrute  Dwight Schrute\n",
       "3        Pam    Beesly      Pam Beesly\n",
       "4       Ryan    Howard     Ryan Howard"
      ]
     },
     "execution_count": 30,
     "metadata": {},
     "output_type": "execute_result"
    }
   ],
   "source": [
    "df[\"complete_name\"] = df[\"first_name\"] + \" \" + df[\"last_name\"]\n",
    "df.head()"
   ]
  },
  {
   "cell_type": "code",
   "execution_count": 31,
   "id": "97323fcb",
   "metadata": {},
   "outputs": [],
   "source": [
    "update_df = df.drop([25, 27])"
   ]
  },
  {
   "cell_type": "code",
   "execution_count": 32,
   "id": "c2cce9ef",
   "metadata": {},
   "outputs": [
    {
     "data": {
      "text/html": [
       "<div>\n",
       "<style scoped>\n",
       "    .dataframe tbody tr th:only-of-type {\n",
       "        vertical-align: middle;\n",
       "    }\n",
       "\n",
       "    .dataframe tbody tr th {\n",
       "        vertical-align: top;\n",
       "    }\n",
       "\n",
       "    .dataframe thead th {\n",
       "        text-align: right;\n",
       "    }\n",
       "</style>\n",
       "<table border=\"1\" class=\"dataframe\">\n",
       "  <thead>\n",
       "    <tr style=\"text-align: right;\">\n",
       "      <th></th>\n",
       "      <th>first_name</th>\n",
       "      <th>last_name</th>\n",
       "      <th>complete_name</th>\n",
       "    </tr>\n",
       "  </thead>\n",
       "  <tbody>\n",
       "    <tr>\n",
       "      <th>21</th>\n",
       "      <td>Charles</td>\n",
       "      <td>Miner</td>\n",
       "      <td>Charles Miner</td>\n",
       "    </tr>\n",
       "    <tr>\n",
       "      <th>22</th>\n",
       "      <td>Deangelo</td>\n",
       "      <td>Vickers</td>\n",
       "      <td>Deangelo Vickers</td>\n",
       "    </tr>\n",
       "    <tr>\n",
       "      <th>23</th>\n",
       "      <td>Josh</td>\n",
       "      <td>Porter</td>\n",
       "      <td>Josh Porter</td>\n",
       "    </tr>\n",
       "    <tr>\n",
       "      <th>24</th>\n",
       "      <td>Ed</td>\n",
       "      <td>Truck</td>\n",
       "      <td>Ed Truck</td>\n",
       "    </tr>\n",
       "    <tr>\n",
       "      <th>26</th>\n",
       "      <td>David</td>\n",
       "      <td>Wallace</td>\n",
       "      <td>David Wallace</td>\n",
       "    </tr>\n",
       "  </tbody>\n",
       "</table>\n",
       "</div>"
      ],
      "text/plain": [
       "   first_name last_name     complete_name\n",
       "21    Charles     Miner     Charles Miner\n",
       "22   Deangelo   Vickers  Deangelo Vickers\n",
       "23       Josh    Porter       Josh Porter\n",
       "24         Ed     Truck          Ed Truck\n",
       "26      David   Wallace     David Wallace"
      ]
     },
     "execution_count": 32,
     "metadata": {},
     "output_type": "execute_result"
    }
   ],
   "source": [
    "update_df.tail()"
   ]
  },
  {
   "cell_type": "code",
   "execution_count": 33,
   "id": "454451c1",
   "metadata": {},
   "outputs": [],
   "source": [
    "update_df.to_csv('apiextraction.csv', index=False)"
   ]
  },
  {
   "cell_type": "code",
   "execution_count": 35,
   "id": "bc163a08",
   "metadata": {},
   "outputs": [
    {
     "data": {
      "text/plain": [
       "array(['Michael Scott', 'Jim Halpert', 'Dwight Schrute', 'Pam Beesly',\n",
       "       'Ryan Howard', 'Kelly Kapoor', 'Angela Martin', 'Kevin Malone',\n",
       "       'Oscar Martinez', 'Andy Bernard', 'Stanley Hudson',\n",
       "       'Phyllis Lapin', 'Toby Flenderson', 'Erin Hannon', 'Gabe Lewis',\n",
       "       'Darryl Philbin', 'Creed Bratton', 'Jo Bennett', 'Holly Flax',\n",
       "       'Jan Levinson', 'Todd Packer', 'Charles Miner', 'Deangelo Vickers',\n",
       "       'Josh Porter', 'Ed Truck', 'David Wallace'], dtype=object)"
      ]
     },
     "execution_count": 35,
     "metadata": {},
     "output_type": "execute_result"
    }
   ],
   "source": [
    "update_df[\"complete_name\"].unique()"
   ]
  },
  {
   "cell_type": "code",
   "execution_count": null,
   "id": "c33b48a7",
   "metadata": {},
   "outputs": [],
   "source": [
    "update_df[\"complete_name\"].unique().size"
   ]
  }
 ],
 "metadata": {
  "kernelspec": {
   "display_name": "Python 3 (ipykernel)",
   "language": "python",
   "name": "python3"
  },
  "language_info": {
   "codemirror_mode": {
    "name": "ipython",
    "version": 3
   },
   "file_extension": ".py",
   "mimetype": "text/x-python",
   "name": "python",
   "nbconvert_exporter": "python",
   "pygments_lexer": "ipython3",
   "version": "3.9.12"
  }
 },
 "nbformat": 4,
 "nbformat_minor": 5
}
