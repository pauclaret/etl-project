{
 "cells": [
  {
   "cell_type": "code",
   "execution_count": 12,
   "id": "7773a741",
   "metadata": {},
   "outputs": [],
   "source": [
    "import requests\n",
    "import pandas as pd\n",
    "from time import sleep\n",
    "import numpy as np\n",
    "\n",
    "from selenium import webdriver\n",
    "from webdriver_manager.chrome import ChromeDriverManager\n",
    "from selenium.webdriver.common.keys import Keys\n",
    "from selenium.webdriver.chrome.options import Options\n",
    "\n",
    "import warnings\n",
    "warnings.filterwarnings('ignore')"
   ]
  },
  {
   "cell_type": "code",
   "execution_count": 13,
   "id": "541f40fc",
   "metadata": {},
   "outputs": [],
   "source": [
    "opciones = Options()\n",
    "opciones.add_experimental_option('excludeSwitches', ['enable-automation'])\n",
    "opciones.add_experimental_option('useAutomationExtension', False)\n",
    "opciones.add_argument('--start-maximized')\n",
    "opciones.add_argument('user.data-dir=selenium') \n",
    "opciones.add_argument('--incognito')"
   ]
  },
  {
   "cell_type": "code",
   "execution_count": null,
   "id": "b6e8878f",
   "metadata": {},
   "outputs": [],
   "source": []
  },
  {
   "cell_type": "code",
   "execution_count": 3,
   "id": "41d43a24",
   "metadata": {},
   "outputs": [
    {
     "name": "stderr",
     "output_type": "stream",
     "text": [
      "[WDM] - Downloading: 100%|████████████████████████████████████████████████████████| 6.58M/6.58M [00:00<00:00, 31.4MB/s]\n"
     ]
    }
   ],
   "source": [
    "driver = webdriver.Chrome(ChromeDriverManager().install())\n",
    "\n",
    "driver.get(\"https://www.rottentomatoes.com/tv/the_office/s01/e01\")\n",
    "driver.implicitly_wait(10)\n",
    "driver.find_element(\"css selector\", \"#onetrust-reject-all-handler\").click()\n",
    "sleep(2)\n",
    "driver.find_element(\"css selector\", \"#showMoreCast\").click()\n",
    "sleep(2)\n",
    "lista_principales = driver.find_element(\"css selector\", \"#fullCast > div > div\").text"
   ]
  },
  {
   "cell_type": "code",
   "execution_count": 4,
   "id": "a25e1b49",
   "metadata": {
    "scrolled": true
   },
   "outputs": [
    {
     "data": {
      "text/plain": [
       "'Steve Carell\\nMichael Scott\\nJenna Fischer\\nPam Beesly Halpert\\nJohn Krasinski\\nJim Halpert\\nRainn Wilson\\nDwight Schrute\\nB.J. Novak\\nRyan Howard\\nMelora Hardin\\nJan Levinson-Gould\\nGuest Star\\nDavid Denman\\nRoy Anderson\\nGuest Star\\nLeslie David Baker\\nStanley Hudson\\nGuest Star\\nBrian Baumgartner\\nKevin Malone\\nGuest Star\\nAngela Kinsey\\nAngela Martin\\nGuest Star\\nHenriette Mantel\\nOffice Worker\\nGuest Star\\nMike McCaul\\nOffice Worker\\nGuest Star\\nOscar Nunez\\nOscar Martinez\\nGuest Star\\nPhyllis Smith\\nPhyllis Vance\\nGuest Star\\nBen Silverman\\nExecutive Producer\\nGreg Daniels\\nExecutive Producer\\nRicky Gervais\\nExecutive Producer\\nStephen Merchant\\nExecutive Producer\\nHoward Klein\\nExecutive Producer'"
      ]
     },
     "execution_count": 4,
     "metadata": {},
     "output_type": "execute_result"
    }
   ],
   "source": [
    "lista_principales"
   ]
  },
  {
   "cell_type": "code",
   "execution_count": null,
   "id": "1258bf5b",
   "metadata": {},
   "outputs": [],
   "source": []
  },
  {
   "cell_type": "code",
   "execution_count": 1,
   "id": "9b87b737",
   "metadata": {},
   "outputs": [],
   "source": [
    "import pandas as pd\n",
    "import numpy as np"
   ]
  },
  {
   "cell_type": "code",
   "execution_count": 2,
   "id": "9967caa2",
   "metadata": {},
   "outputs": [],
   "source": [
    "df = pd.read_csv(\"the_office_series.csv\", index_col = 0)"
   ]
  },
  {
   "cell_type": "code",
   "execution_count": 3,
   "id": "60f91a58",
   "metadata": {
    "scrolled": true
   },
   "outputs": [
    {
     "data": {
      "text/html": [
       "<div>\n",
       "<style scoped>\n",
       "    .dataframe tbody tr th:only-of-type {\n",
       "        vertical-align: middle;\n",
       "    }\n",
       "\n",
       "    .dataframe tbody tr th {\n",
       "        vertical-align: top;\n",
       "    }\n",
       "\n",
       "    .dataframe thead th {\n",
       "        text-align: right;\n",
       "    }\n",
       "</style>\n",
       "<table border=\"1\" class=\"dataframe\">\n",
       "  <thead>\n",
       "    <tr style=\"text-align: right;\">\n",
       "      <th></th>\n",
       "      <th>Season</th>\n",
       "      <th>EpisodeTitle</th>\n",
       "      <th>About</th>\n",
       "      <th>Ratings</th>\n",
       "      <th>Votes</th>\n",
       "      <th>Viewership</th>\n",
       "      <th>Duration</th>\n",
       "      <th>Date</th>\n",
       "      <th>GuestStars</th>\n",
       "      <th>Director</th>\n",
       "      <th>Writers</th>\n",
       "    </tr>\n",
       "  </thead>\n",
       "  <tbody>\n",
       "    <tr>\n",
       "      <th>0</th>\n",
       "      <td>1</td>\n",
       "      <td>Pilot</td>\n",
       "      <td>The premiere episode introduces the boss and s...</td>\n",
       "      <td>7.5</td>\n",
       "      <td>4936</td>\n",
       "      <td>11.2</td>\n",
       "      <td>23</td>\n",
       "      <td>24 March 2005</td>\n",
       "      <td>NaN</td>\n",
       "      <td>Ken Kwapis</td>\n",
       "      <td>Ricky Gervais |Stephen Merchant and Greg Daniels</td>\n",
       "    </tr>\n",
       "    <tr>\n",
       "      <th>1</th>\n",
       "      <td>1</td>\n",
       "      <td>Diversity Day</td>\n",
       "      <td>Michael's off color remark puts a sensitivity ...</td>\n",
       "      <td>8.3</td>\n",
       "      <td>4801</td>\n",
       "      <td>6.0</td>\n",
       "      <td>23</td>\n",
       "      <td>29 March 2005</td>\n",
       "      <td>NaN</td>\n",
       "      <td>Ken Kwapis</td>\n",
       "      <td>B. J. Novak</td>\n",
       "    </tr>\n",
       "    <tr>\n",
       "      <th>2</th>\n",
       "      <td>1</td>\n",
       "      <td>Health Care</td>\n",
       "      <td>Michael leaves Dwight in charge of picking the...</td>\n",
       "      <td>7.8</td>\n",
       "      <td>4024</td>\n",
       "      <td>5.8</td>\n",
       "      <td>22</td>\n",
       "      <td>5 April 2005</td>\n",
       "      <td>NaN</td>\n",
       "      <td>Ken Whittingham</td>\n",
       "      <td>Paul Lieberstein</td>\n",
       "    </tr>\n",
       "    <tr>\n",
       "      <th>3</th>\n",
       "      <td>1</td>\n",
       "      <td>The Alliance</td>\n",
       "      <td>Just for a laugh, Jim agrees to an alliance wi...</td>\n",
       "      <td>8.1</td>\n",
       "      <td>3915</td>\n",
       "      <td>5.4</td>\n",
       "      <td>23</td>\n",
       "      <td>12 April 2005</td>\n",
       "      <td>NaN</td>\n",
       "      <td>Bryan Gordon</td>\n",
       "      <td>Michael Schur</td>\n",
       "    </tr>\n",
       "    <tr>\n",
       "      <th>4</th>\n",
       "      <td>1</td>\n",
       "      <td>Basketball</td>\n",
       "      <td>Michael and his staff challenge the warehouse ...</td>\n",
       "      <td>8.4</td>\n",
       "      <td>4294</td>\n",
       "      <td>5.0</td>\n",
       "      <td>23</td>\n",
       "      <td>19 April 2005</td>\n",
       "      <td>NaN</td>\n",
       "      <td>Greg Daniels</td>\n",
       "      <td>Greg Daniels</td>\n",
       "    </tr>\n",
       "  </tbody>\n",
       "</table>\n",
       "</div>"
      ],
      "text/plain": [
       "   Season   EpisodeTitle                                              About  \\\n",
       "0       1          Pilot  The premiere episode introduces the boss and s...   \n",
       "1       1  Diversity Day  Michael's off color remark puts a sensitivity ...   \n",
       "2       1    Health Care  Michael leaves Dwight in charge of picking the...   \n",
       "3       1   The Alliance  Just for a laugh, Jim agrees to an alliance wi...   \n",
       "4       1     Basketball  Michael and his staff challenge the warehouse ...   \n",
       "\n",
       "   Ratings  Votes  Viewership  Duration            Date GuestStars  \\\n",
       "0      7.5   4936        11.2        23   24 March 2005        NaN   \n",
       "1      8.3   4801         6.0        23   29 March 2005        NaN   \n",
       "2      7.8   4024         5.8        22    5 April 2005        NaN   \n",
       "3      8.1   3915         5.4        23   12 April 2005        NaN   \n",
       "4      8.4   4294         5.0        23   19 April 2005        NaN   \n",
       "\n",
       "          Director                                           Writers  \n",
       "0       Ken Kwapis  Ricky Gervais |Stephen Merchant and Greg Daniels  \n",
       "1       Ken Kwapis                                       B. J. Novak  \n",
       "2  Ken Whittingham                                  Paul Lieberstein  \n",
       "3     Bryan Gordon                                     Michael Schur  \n",
       "4     Greg Daniels                                      Greg Daniels  "
      ]
     },
     "execution_count": 3,
     "metadata": {},
     "output_type": "execute_result"
    }
   ],
   "source": [
    "df.head()"
   ]
  },
  {
   "cell_type": "code",
   "execution_count": 4,
   "id": "19ac6186",
   "metadata": {},
   "outputs": [],
   "source": [
    "df['Season'] = df['Season'].astype(\"string\").str.zfill(2)"
   ]
  },
  {
   "cell_type": "code",
   "execution_count": 5,
   "id": "c8b37542",
   "metadata": {},
   "outputs": [
    {
     "data": {
      "text/html": [
       "<div>\n",
       "<style scoped>\n",
       "    .dataframe tbody tr th:only-of-type {\n",
       "        vertical-align: middle;\n",
       "    }\n",
       "\n",
       "    .dataframe tbody tr th {\n",
       "        vertical-align: top;\n",
       "    }\n",
       "\n",
       "    .dataframe thead th {\n",
       "        text-align: right;\n",
       "    }\n",
       "</style>\n",
       "<table border=\"1\" class=\"dataframe\">\n",
       "  <thead>\n",
       "    <tr style=\"text-align: right;\">\n",
       "      <th></th>\n",
       "      <th>Season</th>\n",
       "      <th>EpisodeTitle</th>\n",
       "      <th>About</th>\n",
       "      <th>Ratings</th>\n",
       "      <th>Votes</th>\n",
       "      <th>Viewership</th>\n",
       "      <th>Duration</th>\n",
       "      <th>Date</th>\n",
       "      <th>GuestStars</th>\n",
       "      <th>Director</th>\n",
       "      <th>Writers</th>\n",
       "    </tr>\n",
       "  </thead>\n",
       "  <tbody>\n",
       "    <tr>\n",
       "      <th>0</th>\n",
       "      <td>01</td>\n",
       "      <td>Pilot</td>\n",
       "      <td>The premiere episode introduces the boss and s...</td>\n",
       "      <td>7.5</td>\n",
       "      <td>4936</td>\n",
       "      <td>11.2</td>\n",
       "      <td>23</td>\n",
       "      <td>24 March 2005</td>\n",
       "      <td>NaN</td>\n",
       "      <td>Ken Kwapis</td>\n",
       "      <td>Ricky Gervais |Stephen Merchant and Greg Daniels</td>\n",
       "    </tr>\n",
       "    <tr>\n",
       "      <th>1</th>\n",
       "      <td>01</td>\n",
       "      <td>Diversity Day</td>\n",
       "      <td>Michael's off color remark puts a sensitivity ...</td>\n",
       "      <td>8.3</td>\n",
       "      <td>4801</td>\n",
       "      <td>6.0</td>\n",
       "      <td>23</td>\n",
       "      <td>29 March 2005</td>\n",
       "      <td>NaN</td>\n",
       "      <td>Ken Kwapis</td>\n",
       "      <td>B. J. Novak</td>\n",
       "    </tr>\n",
       "    <tr>\n",
       "      <th>2</th>\n",
       "      <td>01</td>\n",
       "      <td>Health Care</td>\n",
       "      <td>Michael leaves Dwight in charge of picking the...</td>\n",
       "      <td>7.8</td>\n",
       "      <td>4024</td>\n",
       "      <td>5.8</td>\n",
       "      <td>22</td>\n",
       "      <td>5 April 2005</td>\n",
       "      <td>NaN</td>\n",
       "      <td>Ken Whittingham</td>\n",
       "      <td>Paul Lieberstein</td>\n",
       "    </tr>\n",
       "    <tr>\n",
       "      <th>3</th>\n",
       "      <td>01</td>\n",
       "      <td>The Alliance</td>\n",
       "      <td>Just for a laugh, Jim agrees to an alliance wi...</td>\n",
       "      <td>8.1</td>\n",
       "      <td>3915</td>\n",
       "      <td>5.4</td>\n",
       "      <td>23</td>\n",
       "      <td>12 April 2005</td>\n",
       "      <td>NaN</td>\n",
       "      <td>Bryan Gordon</td>\n",
       "      <td>Michael Schur</td>\n",
       "    </tr>\n",
       "    <tr>\n",
       "      <th>4</th>\n",
       "      <td>01</td>\n",
       "      <td>Basketball</td>\n",
       "      <td>Michael and his staff challenge the warehouse ...</td>\n",
       "      <td>8.4</td>\n",
       "      <td>4294</td>\n",
       "      <td>5.0</td>\n",
       "      <td>23</td>\n",
       "      <td>19 April 2005</td>\n",
       "      <td>NaN</td>\n",
       "      <td>Greg Daniels</td>\n",
       "      <td>Greg Daniels</td>\n",
       "    </tr>\n",
       "  </tbody>\n",
       "</table>\n",
       "</div>"
      ],
      "text/plain": [
       "  Season   EpisodeTitle                                              About  \\\n",
       "0     01          Pilot  The premiere episode introduces the boss and s...   \n",
       "1     01  Diversity Day  Michael's off color remark puts a sensitivity ...   \n",
       "2     01    Health Care  Michael leaves Dwight in charge of picking the...   \n",
       "3     01   The Alliance  Just for a laugh, Jim agrees to an alliance wi...   \n",
       "4     01     Basketball  Michael and his staff challenge the warehouse ...   \n",
       "\n",
       "   Ratings  Votes  Viewership  Duration            Date GuestStars  \\\n",
       "0      7.5   4936        11.2        23   24 March 2005        NaN   \n",
       "1      8.3   4801         6.0        23   29 March 2005        NaN   \n",
       "2      7.8   4024         5.8        22    5 April 2005        NaN   \n",
       "3      8.1   3915         5.4        23   12 April 2005        NaN   \n",
       "4      8.4   4294         5.0        23   19 April 2005        NaN   \n",
       "\n",
       "          Director                                           Writers  \n",
       "0       Ken Kwapis  Ricky Gervais |Stephen Merchant and Greg Daniels  \n",
       "1       Ken Kwapis                                       B. J. Novak  \n",
       "2  Ken Whittingham                                  Paul Lieberstein  \n",
       "3     Bryan Gordon                                     Michael Schur  \n",
       "4     Greg Daniels                                      Greg Daniels  "
      ]
     },
     "execution_count": 5,
     "metadata": {},
     "output_type": "execute_result"
    }
   ],
   "source": [
    "df.head()"
   ]
  },
  {
   "cell_type": "code",
   "execution_count": 6,
   "id": "3acb4871",
   "metadata": {},
   "outputs": [
    {
     "data": {
      "text/plain": [
       "['Pilot',\n",
       " 'Diversity Day',\n",
       " 'Health Care',\n",
       " 'The Alliance',\n",
       " 'Basketball',\n",
       " 'Hot Girl']"
      ]
     },
     "execution_count": 6,
     "metadata": {},
     "output_type": "execute_result"
    }
   ],
   "source": [
    "data_dict = df.groupby('Season').EpisodeTitle.apply(list).to_dict()  \n",
    "data_dict[\"01\"]"
   ]
  },
  {
   "cell_type": "code",
   "execution_count": 7,
   "id": "f2402b54",
   "metadata": {},
   "outputs": [
    {
     "name": "stdout",
     "output_type": "stream",
     "text": [
      "{'01': ['01', '02', '03', '04', '05', '06'], '02': ['01', '02', '03', '04', '05', '06', '07', '08', '09', '10', '11', '12', '13', '14', '15', '16', '17', '18', '19', '20', '21', '22'], '03': ['01', '02', '03', '04', '05', '06', '07', '08', '09', '10', '11', '12', '13', '14', '15', '16', '17', '18', '19', '20', '21', '22', '23'], '04': ['01', '02', '03', '04', '05', '06', '07', '08', '09', '10', '11', '12', '13', '14'], '05': ['01', '02', '03', '04', '05', '06', '07', '08', '09', '10', '11', '12', '13', '14', '15', '16', '17', '18', '19', '20', '21', '22', '23', '24', '25', '26'], '06': ['01', '02', '03', '04', '05', '06', '07', '08', '09', '10', '11', '12', '13', '14', '15', '16', '17', '18', '19', '20', '21', '22', '23', '24', '25', '26'], '07': ['01', '02', '03', '04', '05', '06', '07', '08', '09', '10', '11', '12', '13', '14', '15', '16', '17', '18', '19', '20', '21', '22', '23', '24'], '08': ['01', '02', '03', '04', '05', '06', '07', '08', '09', '10', '11', '12', '13', '14', '15', '16', '17', '18', '19', '20', '21', '22', '23', '24'], '09': ['01', '02', '03', '04', '05', '06', '07', '08', '09', '10', '11', '12', '13', '14', '15', '16', '17', '18', '19', '20', '21', '22', '23']}\n"
     ]
    }
   ],
   "source": [
    "new_dict = {}\n",
    "for key, value in data_dict.items():\n",
    "    new_dict[key] = list(range(1, len([item for item in value if item]) + 1))\n",
    "\n",
    "for k, v in new_dict.items():\n",
    "    lista_vacia = []\n",
    "    for numero in v:\n",
    "        lista_vacia.append(f\"{numero:02}\")\n",
    "    new_dict[k] = lista_vacia\n",
    "\n",
    "print(new_dict)"
   ]
  },
  {
   "cell_type": "code",
   "execution_count": 8,
   "id": "1b7881e2",
   "metadata": {},
   "outputs": [],
   "source": [
    "new_dict[\"09\"].remove('17')\n",
    "new_dict[\"09\"].remove('23')\n",
    "new_dict[\"09\"].append('24')\n",
    "new_dict[\"09\"].append('26')"
   ]
  },
  {
   "cell_type": "code",
   "execution_count": 9,
   "id": "0d2c3a6c",
   "metadata": {},
   "outputs": [
    {
     "name": "stdout",
     "output_type": "stream",
     "text": [
      "{'01': ['01', '02', '03', '04', '05', '06'], '02': ['01', '02', '03', '04', '05', '06', '07', '08', '09', '10', '11', '12', '13', '14', '15', '16', '17', '18', '19', '20', '21', '22'], '03': ['01', '02', '03', '04', '05', '06', '07', '08', '09', '10', '11', '12', '13', '14', '15', '16', '17', '18', '19', '20', '21', '22', '23'], '04': ['01', '02', '03', '04', '05', '06', '07', '08', '09', '10', '11', '12', '13', '14'], '05': ['01', '02', '03', '04', '05', '06', '07', '08', '09', '10', '11', '12', '13', '14', '15', '16', '17', '18', '19', '20', '21', '22', '23', '24', '25', '26'], '06': ['01', '02', '03', '04', '05', '06', '07', '08', '09', '10', '11', '12', '13', '14', '15', '16', '17', '18', '19', '20', '21', '22', '23', '24', '25', '26'], '07': ['01', '02', '03', '04', '05', '06', '07', '08', '09', '10', '11', '12', '13', '14', '15', '16', '17', '18', '19', '20', '21', '22', '23', '24'], '08': ['01', '02', '03', '04', '05', '06', '07', '08', '09', '10', '11', '12', '13', '14', '15', '16', '17', '18', '19', '20', '21', '22', '23', '24'], '09': ['01', '02', '03', '04', '05', '06', '07', '08', '09', '10', '11', '12', '13', '14', '15', '16', '18', '19', '20', '21', '22', '24', '26']}\n"
     ]
    }
   ],
   "source": [
    "print(new_dict)"
   ]
  },
  {
   "cell_type": "code",
   "execution_count": null,
   "id": "38c1fcfb",
   "metadata": {},
   "outputs": [],
   "source": []
  },
  {
   "cell_type": "code",
   "execution_count": 10,
   "id": "f06f71fc",
   "metadata": {
    "scrolled": true
   },
   "outputs": [
    {
     "data": {
      "text/plain": [
       "['https://www.rottentomatoes.com/tv/the_office/s09/e20',\n",
       " 'https://www.rottentomatoes.com/tv/the_office/s09/e21',\n",
       " 'https://www.rottentomatoes.com/tv/the_office/s09/e22',\n",
       " 'https://www.rottentomatoes.com/tv/the_office/s09/e24',\n",
       " 'https://www.rottentomatoes.com/tv/the_office/s09/e26']"
      ]
     },
     "execution_count": 10,
     "metadata": {},
     "output_type": "execute_result"
    }
   ],
   "source": [
    "url_list = []\n",
    "for season in new_dict.keys():\n",
    "    for episode in new_dict[season]:\n",
    "            url_list.append(f\"https://www.rottentomatoes.com/tv/the_office/s{season}/e{episode}\")\n",
    "url_list[-5:]"
   ]
  },
  {
   "cell_type": "code",
   "execution_count": null,
   "id": "bffd5c62",
   "metadata": {},
   "outputs": [],
   "source": []
  },
  {
   "cell_type": "code",
   "execution_count": 14,
   "id": "a6d8ee9c",
   "metadata": {},
   "outputs": [],
   "source": [
    "driver = webdriver.Chrome(ChromeDriverManager().install())\n",
    "result_list = []\n",
    "\n",
    "for i in url_list[:3]: \n",
    "    driver.get(i)\n",
    "    try:\n",
    "        sleep(5)\n",
    "        driver.find_element(\"css selector\", \"#onetrust-reject-all-handler\").click()\n",
    "        sleep(2)\n",
    "        driver.find_element(\"css selector\", \"#showMoreCast\").click()\n",
    "        sleep(2)\n",
    "        resultado = driver.find_element(\"css selector\", \"#fullCast > div > div\").text\n",
    "        result_list.append(resultado)\n",
    "    except: \n",
    "        sleep(5)\n",
    "        driver.find_element(\"css selector\", \"#showMoreCast\").click()\n",
    "        sleep(2)\n",
    "        resultado = driver.find_element(\"css selector\", \"#fullCast > div > div\").text\n",
    "        result_list.append(resultado)\n",
    "driver.quit()"
   ]
  },
  {
   "cell_type": "code",
   "execution_count": 36,
   "id": "ded32978",
   "metadata": {},
   "outputs": [
    {
     "data": {
      "text/plain": [
       "['Steve Carell\\nMichael Scott\\nJenna Fischer\\nPam Beesly Halpert\\nJohn Krasinski\\nJim Halpert\\nRainn Wilson\\nDwight Schrute\\nB.J. Novak\\nRyan Howard\\nMelora Hardin\\nJan Levinson-Gould\\nGuest Star\\nDavid Denman\\nRoy Anderson\\nGuest Star\\nLeslie David Baker\\nStanley Hudson\\nGuest Star\\nBrian Baumgartner\\nKevin Malone\\nGuest Star\\nAngela Kinsey\\nAngela Martin\\nGuest Star\\nHenriette Mantel\\nOffice Worker\\nGuest Star\\nMike McCaul\\nOffice Worker\\nGuest Star\\nOscar Nunez\\nOscar Martinez\\nGuest Star\\nPhyllis Smith\\nPhyllis Vance\\nGuest Star\\nBen Silverman\\nExecutive Producer\\nGreg Daniels\\nExecutive Producer\\nRicky Gervais\\nExecutive Producer\\nStephen Merchant\\nExecutive Producer\\nHoward Klein\\nExecutive Producer',\n",
       " 'Steve Carell\\nMichael Scott\\nJenna Fischer\\nPam Beesly Halpert\\nJohn Krasinski\\nJim Halpert\\nRainn Wilson\\nDwight Schrute\\nB.J. Novak\\nRyan Howard\\nLarry Wilmore\\nMr. Brown\\nGuest Star\\nLeslie David Baker\\nStanley Hudson\\nGuest Star\\nBrian Baumgartner\\nKevin Malone\\nGuest Star\\nKate Flannery\\nMeredith Palmer\\nGuest Star\\nMindy Kaling\\nKelly Kapoor\\nGuest Star\\nPaul Lieberstein\\nToby Flenderson\\nGuest Star\\nAngela Kinsey\\nAngela Martin\\nGuest Star\\nOscar Nunez\\nOscar Martinez\\nGuest Star\\nPhyllis Smith\\nPhyllis Vance\\nGuest Star\\nBen Silverman\\nExecutive Producer\\nGreg Daniels\\nExecutive Producer\\nRicky Gervais\\nExecutive Producer\\nStephen Merchant\\nExecutive Producer\\nHoward Klein\\nExecutive Producer',\n",
       " 'Steve Carell\\nMichael Scott\\nJenna Fischer\\nPam Beesly Halpert\\nJohn Krasinski\\nJim Halpert\\nRainn Wilson\\nDwight Schrute\\nB.J. Novak\\nRyan Howard\\nMelora Hardin\\nJan Levinson-Gould\\nGuest Star\\nLeslie David Baker\\nStanley Hudson\\nGuest Star\\nBrian Baumgartner\\nKevin Malone\\nGuest Star\\nKate Flannery\\nMeredith Palmer\\nGuest Star\\nCharlie Hartsock\\nTravel Agent\\nGuest Star\\nMindy Kaling\\nKelly Kapoor\\nGuest Star\\nAngela Kinsey\\nAngela Martin\\nGuest Star\\nPaul Lieberstein\\nToby Flenderson\\nGuest Star\\nOscar Nunez\\nOscar Martinez\\nGuest Star\\nPhyllis Smith\\nPhyllis Vance\\nGuest Star\\nBen Silverman\\nExecutive Producer\\nGreg Daniels\\nExecutive Producer\\nRicky Gervais\\nExecutive Producer\\nStephen Merchant\\nExecutive Producer\\nHoward Klein\\nExecutive Producer']"
      ]
     },
     "execution_count": 36,
     "metadata": {},
     "output_type": "execute_result"
    }
   ],
   "source": [
    "result_list"
   ]
  },
  {
   "cell_type": "code",
   "execution_count": 37,
   "id": "0284a958",
   "metadata": {},
   "outputs": [
    {
     "data": {
      "text/plain": [
       "0    Steve Carell\\nMichael Scott\\nJenna Fischer\\nPa...\n",
       "1    Steve Carell\\nMichael Scott\\nJenna Fischer\\nPa...\n",
       "2    Steve Carell\\nMichael Scott\\nJenna Fischer\\nPa...\n",
       "dtype: object"
      ]
     },
     "execution_count": 37,
     "metadata": {},
     "output_type": "execute_result"
    }
   ],
   "source": [
    "series = pd.Series(result_list)\n",
    "series"
   ]
  },
  {
   "cell_type": "code",
   "execution_count": 39,
   "id": "3a847011",
   "metadata": {},
   "outputs": [],
   "source": [
    "df1 = series.to_frame()\n",
    "df1 = df1.rename(columns = {0:'item'})"
   ]
  },
  {
   "cell_type": "code",
   "execution_count": 40,
   "id": "43d3bb6d",
   "metadata": {},
   "outputs": [
    {
     "data": {
      "text/html": [
       "<div>\n",
       "<style scoped>\n",
       "    .dataframe tbody tr th:only-of-type {\n",
       "        vertical-align: middle;\n",
       "    }\n",
       "\n",
       "    .dataframe tbody tr th {\n",
       "        vertical-align: top;\n",
       "    }\n",
       "\n",
       "    .dataframe thead th {\n",
       "        text-align: right;\n",
       "    }\n",
       "</style>\n",
       "<table border=\"1\" class=\"dataframe\">\n",
       "  <thead>\n",
       "    <tr style=\"text-align: right;\">\n",
       "      <th></th>\n",
       "      <th>item</th>\n",
       "    </tr>\n",
       "  </thead>\n",
       "  <tbody>\n",
       "    <tr>\n",
       "      <th>0</th>\n",
       "      <td>Steve Carell\\nMichael Scott\\nJenna Fischer\\nPa...</td>\n",
       "    </tr>\n",
       "    <tr>\n",
       "      <th>1</th>\n",
       "      <td>Steve Carell\\nMichael Scott\\nJenna Fischer\\nPa...</td>\n",
       "    </tr>\n",
       "    <tr>\n",
       "      <th>2</th>\n",
       "      <td>Steve Carell\\nMichael Scott\\nJenna Fischer\\nPa...</td>\n",
       "    </tr>\n",
       "  </tbody>\n",
       "</table>\n",
       "</div>"
      ],
      "text/plain": [
       "                                                item\n",
       "0  Steve Carell\\nMichael Scott\\nJenna Fischer\\nPa...\n",
       "1  Steve Carell\\nMichael Scott\\nJenna Fischer\\nPa...\n",
       "2  Steve Carell\\nMichael Scott\\nJenna Fischer\\nPa..."
      ]
     },
     "execution_count": 40,
     "metadata": {},
     "output_type": "execute_result"
    }
   ],
   "source": [
    "df1.head()"
   ]
  },
  {
   "cell_type": "code",
   "execution_count": 41,
   "id": "a42657c4",
   "metadata": {},
   "outputs": [],
   "source": [
    "df1['item'] = df1['item'].str.split('\\n')\n",
    "df = df.explode('0')"
   ]
  },
  {
   "cell_type": "code",
   "execution_count": 42,
   "id": "8dd11415",
   "metadata": {},
   "outputs": [
    {
     "data": {
      "text/html": [
       "<div>\n",
       "<style scoped>\n",
       "    .dataframe tbody tr th:only-of-type {\n",
       "        vertical-align: middle;\n",
       "    }\n",
       "\n",
       "    .dataframe tbody tr th {\n",
       "        vertical-align: top;\n",
       "    }\n",
       "\n",
       "    .dataframe thead th {\n",
       "        text-align: right;\n",
       "    }\n",
       "</style>\n",
       "<table border=\"1\" class=\"dataframe\">\n",
       "  <thead>\n",
       "    <tr style=\"text-align: right;\">\n",
       "      <th></th>\n",
       "      <th>item</th>\n",
       "    </tr>\n",
       "  </thead>\n",
       "  <tbody>\n",
       "    <tr>\n",
       "      <th>0</th>\n",
       "      <td>[Steve Carell, Michael Scott, Jenna Fischer, P...</td>\n",
       "    </tr>\n",
       "    <tr>\n",
       "      <th>1</th>\n",
       "      <td>[Steve Carell, Michael Scott, Jenna Fischer, P...</td>\n",
       "    </tr>\n",
       "    <tr>\n",
       "      <th>2</th>\n",
       "      <td>[Steve Carell, Michael Scott, Jenna Fischer, P...</td>\n",
       "    </tr>\n",
       "  </tbody>\n",
       "</table>\n",
       "</div>"
      ],
      "text/plain": [
       "                                                item\n",
       "0  [Steve Carell, Michael Scott, Jenna Fischer, P...\n",
       "1  [Steve Carell, Michael Scott, Jenna Fischer, P...\n",
       "2  [Steve Carell, Michael Scott, Jenna Fischer, P..."
      ]
     },
     "execution_count": 42,
     "metadata": {},
     "output_type": "execute_result"
    }
   ],
   "source": [
    "df1.head()"
   ]
  },
  {
   "cell_type": "code",
   "execution_count": 43,
   "id": "a02dd1e1",
   "metadata": {},
   "outputs": [],
   "source": [
    "df1 = df1.explode('item')"
   ]
  },
  {
   "cell_type": "code",
   "execution_count": 46,
   "id": "98b39860",
   "metadata": {},
   "outputs": [
    {
     "data": {
      "text/html": [
       "<div>\n",
       "<style scoped>\n",
       "    .dataframe tbody tr th:only-of-type {\n",
       "        vertical-align: middle;\n",
       "    }\n",
       "\n",
       "    .dataframe tbody tr th {\n",
       "        vertical-align: top;\n",
       "    }\n",
       "\n",
       "    .dataframe thead th {\n",
       "        text-align: right;\n",
       "    }\n",
       "</style>\n",
       "<table border=\"1\" class=\"dataframe\">\n",
       "  <thead>\n",
       "    <tr style=\"text-align: right;\">\n",
       "      <th></th>\n",
       "      <th>item</th>\n",
       "    </tr>\n",
       "  </thead>\n",
       "  <tbody>\n",
       "    <tr>\n",
       "      <th>0</th>\n",
       "      <td>Steve Carell</td>\n",
       "    </tr>\n",
       "    <tr>\n",
       "      <th>0</th>\n",
       "      <td>Michael Scott</td>\n",
       "    </tr>\n",
       "    <tr>\n",
       "      <th>0</th>\n",
       "      <td>Jenna Fischer</td>\n",
       "    </tr>\n",
       "    <tr>\n",
       "      <th>0</th>\n",
       "      <td>Pam Beesly Halpert</td>\n",
       "    </tr>\n",
       "    <tr>\n",
       "      <th>0</th>\n",
       "      <td>John Krasinski</td>\n",
       "    </tr>\n",
       "  </tbody>\n",
       "</table>\n",
       "</div>"
      ],
      "text/plain": [
       "                 item\n",
       "0        Steve Carell\n",
       "0       Michael Scott\n",
       "0       Jenna Fischer\n",
       "0  Pam Beesly Halpert\n",
       "0      John Krasinski"
      ]
     },
     "execution_count": 46,
     "metadata": {},
     "output_type": "execute_result"
    }
   ],
   "source": [
    "df1.head()"
   ]
  },
  {
   "cell_type": "code",
   "execution_count": null,
   "id": "aa283650",
   "metadata": {},
   "outputs": [],
   "source": []
  }
 ],
 "metadata": {
  "kernelspec": {
   "display_name": "Python 3 (ipykernel)",
   "language": "python",
   "name": "python3"
  },
  "language_info": {
   "codemirror_mode": {
    "name": "ipython",
    "version": 3
   },
   "file_extension": ".py",
   "mimetype": "text/x-python",
   "name": "python",
   "nbconvert_exporter": "python",
   "pygments_lexer": "ipython3",
   "version": "3.9.12"
  }
 },
 "nbformat": 4,
 "nbformat_minor": 5
}
