{
 "cells": [
  {
   "cell_type": "code",
   "execution_count": 41,
   "id": "18937cc4",
   "metadata": {},
   "outputs": [],
   "source": [
    "import pandas as pd\n",
    "import requests"
   ]
  },
  {
   "cell_type": "code",
   "execution_count": 42,
   "id": "301c55c3",
   "metadata": {},
   "outputs": [],
   "source": [
    "# Request made to the The Office API to get the data.\n",
    "url = \"https://officeapi.dev/api/characters/\"\n",
    "res = requests.get(url)\n",
    "res.status_code\n",
    "test_res = res.json()"
   ]
  },
  {
   "cell_type": "code",
   "execution_count": 43,
   "id": "525aebf9",
   "metadata": {},
   "outputs": [],
   "source": [
    "# Creating a list of the values in the dictionary.\n",
    "l = []\n",
    "for d in test_res:\n",
    "    for value in test_res.values():\n",
    "        l.append(value)\n",
    "l = l[0]"
   ]
  },
  {
   "cell_type": "code",
   "execution_count": 44,
   "id": "0a94aff5",
   "metadata": {},
   "outputs": [
    {
     "data": {
      "text/plain": [
       "[{'_id': '5e93b4a43af44260882e33b0',\n",
       "  'firstname': 'Michael',\n",
       "  'lastname': 'Scott',\n",
       "  '__v': 0},\n",
       " {'_id': '5e93b4f03af44260882e33b1',\n",
       "  'firstname': 'Jim',\n",
       "  'lastname': 'Halpert',\n",
       "  '__v': 0}]"
      ]
     },
     "execution_count": 44,
     "metadata": {},
     "output_type": "execute_result"
    }
   ],
   "source": [
    "l[:2]"
   ]
  },
  {
   "cell_type": "code",
   "execution_count": 45,
   "id": "c7141fdc",
   "metadata": {},
   "outputs": [
    {
     "data": {
      "text/html": [
       "<div>\n",
       "<style scoped>\n",
       "    .dataframe tbody tr th:only-of-type {\n",
       "        vertical-align: middle;\n",
       "    }\n",
       "\n",
       "    .dataframe tbody tr th {\n",
       "        vertical-align: top;\n",
       "    }\n",
       "\n",
       "    .dataframe thead th {\n",
       "        text-align: right;\n",
       "    }\n",
       "</style>\n",
       "<table border=\"1\" class=\"dataframe\">\n",
       "  <thead>\n",
       "    <tr style=\"text-align: right;\">\n",
       "      <th></th>\n",
       "      <th>_id</th>\n",
       "      <th>firstname</th>\n",
       "      <th>lastname</th>\n",
       "      <th>__v</th>\n",
       "    </tr>\n",
       "  </thead>\n",
       "  <tbody>\n",
       "    <tr>\n",
       "      <th>0</th>\n",
       "      <td>5e93b4a43af44260882e33b0</td>\n",
       "      <td>Michael</td>\n",
       "      <td>Scott</td>\n",
       "      <td>0</td>\n",
       "    </tr>\n",
       "    <tr>\n",
       "      <th>1</th>\n",
       "      <td>5e93b4f03af44260882e33b1</td>\n",
       "      <td>Jim</td>\n",
       "      <td>Halpert</td>\n",
       "      <td>0</td>\n",
       "    </tr>\n",
       "    <tr>\n",
       "      <th>2</th>\n",
       "      <td>5e93b4fa3af44260882e33b2</td>\n",
       "      <td>Dwight</td>\n",
       "      <td>Schrute</td>\n",
       "      <td>0</td>\n",
       "    </tr>\n",
       "    <tr>\n",
       "      <th>3</th>\n",
       "      <td>5e93b50a3af44260882e33b3</td>\n",
       "      <td>Pam</td>\n",
       "      <td>Beesly</td>\n",
       "      <td>0</td>\n",
       "    </tr>\n",
       "    <tr>\n",
       "      <th>4</th>\n",
       "      <td>5e93b5183af44260882e33b4</td>\n",
       "      <td>Ryan</td>\n",
       "      <td>Howard</td>\n",
       "      <td>0</td>\n",
       "    </tr>\n",
       "  </tbody>\n",
       "</table>\n",
       "</div>"
      ],
      "text/plain": [
       "                        _id firstname lastname  __v\n",
       "0  5e93b4a43af44260882e33b0   Michael    Scott    0\n",
       "1  5e93b4f03af44260882e33b1       Jim  Halpert    0\n",
       "2  5e93b4fa3af44260882e33b2    Dwight  Schrute    0\n",
       "3  5e93b50a3af44260882e33b3       Pam   Beesly    0\n",
       "4  5e93b5183af44260882e33b4      Ryan   Howard    0"
      ]
     },
     "execution_count": 45,
     "metadata": {},
     "output_type": "execute_result"
    }
   ],
   "source": [
    "df = pd.DataFrame(l)\n",
    "df.head()"
   ]
  },
  {
   "cell_type": "code",
   "execution_count": 46,
   "id": "9a4ecb78",
   "metadata": {},
   "outputs": [],
   "source": [
    "# Dropping the columns \"__v\" and \"_id\" from the dataframe, as the information is not relevant for the analysis\n",
    "df.drop([\"__v\", \"_id\"], axis = 1, inplace = True)"
   ]
  },
  {
   "cell_type": "code",
   "execution_count": 47,
   "id": "d5ab73e2",
   "metadata": {},
   "outputs": [],
   "source": [
    "# Replacing the lastname Minor with Miner, as Minor is not the correct last name for Charles Miner\n",
    "df.loc[df[\"lastname\"] == \"Minor\", \"lastname\"] = \"Miner\""
   ]
  },
  {
   "cell_type": "code",
   "execution_count": 48,
   "id": "1833f3b5",
   "metadata": {},
   "outputs": [],
   "source": [
    "df = df.rename(columns = {\"firstname\": \"first_name\", \"lastname\": \"last_name\"})"
   ]
  },
  {
   "cell_type": "code",
   "execution_count": 49,
   "id": "c2a35ab6",
   "metadata": {},
   "outputs": [
    {
     "data": {
      "text/html": [
       "<div>\n",
       "<style scoped>\n",
       "    .dataframe tbody tr th:only-of-type {\n",
       "        vertical-align: middle;\n",
       "    }\n",
       "\n",
       "    .dataframe tbody tr th {\n",
       "        vertical-align: top;\n",
       "    }\n",
       "\n",
       "    .dataframe thead th {\n",
       "        text-align: right;\n",
       "    }\n",
       "</style>\n",
       "<table border=\"1\" class=\"dataframe\">\n",
       "  <thead>\n",
       "    <tr style=\"text-align: right;\">\n",
       "      <th></th>\n",
       "      <th>first_name</th>\n",
       "      <th>last_name</th>\n",
       "      <th>complete_name</th>\n",
       "    </tr>\n",
       "  </thead>\n",
       "  <tbody>\n",
       "    <tr>\n",
       "      <th>0</th>\n",
       "      <td>Michael</td>\n",
       "      <td>Scott</td>\n",
       "      <td>Michael Scott</td>\n",
       "    </tr>\n",
       "    <tr>\n",
       "      <th>1</th>\n",
       "      <td>Jim</td>\n",
       "      <td>Halpert</td>\n",
       "      <td>Jim Halpert</td>\n",
       "    </tr>\n",
       "    <tr>\n",
       "      <th>2</th>\n",
       "      <td>Dwight</td>\n",
       "      <td>Schrute</td>\n",
       "      <td>Dwight Schrute</td>\n",
       "    </tr>\n",
       "    <tr>\n",
       "      <th>3</th>\n",
       "      <td>Pam</td>\n",
       "      <td>Beesly</td>\n",
       "      <td>Pam Beesly</td>\n",
       "    </tr>\n",
       "    <tr>\n",
       "      <th>4</th>\n",
       "      <td>Ryan</td>\n",
       "      <td>Howard</td>\n",
       "      <td>Ryan Howard</td>\n",
       "    </tr>\n",
       "  </tbody>\n",
       "</table>\n",
       "</div>"
      ],
      "text/plain": [
       "  first_name last_name   complete_name\n",
       "0    Michael     Scott   Michael Scott\n",
       "1        Jim   Halpert     Jim Halpert\n",
       "2     Dwight   Schrute  Dwight Schrute\n",
       "3        Pam    Beesly      Pam Beesly\n",
       "4       Ryan    Howard     Ryan Howard"
      ]
     },
     "execution_count": 49,
     "metadata": {},
     "output_type": "execute_result"
    }
   ],
   "source": [
    "df[\"complete_name\"] = df[\"first_name\"] + \" \" + df[\"last_name\"]\n",
    "df.head()"
   ]
  },
  {
   "cell_type": "code",
   "execution_count": 50,
   "id": "97323fcb",
   "metadata": {},
   "outputs": [],
   "source": [
    "# Dropping rows 25 and 27, that contained incorrect information\n",
    "update_df = df.drop([25, 27])"
   ]
  },
  {
   "cell_type": "code",
   "execution_count": 51,
   "id": "c2cce9ef",
   "metadata": {},
   "outputs": [
    {
     "data": {
      "text/html": [
       "<div>\n",
       "<style scoped>\n",
       "    .dataframe tbody tr th:only-of-type {\n",
       "        vertical-align: middle;\n",
       "    }\n",
       "\n",
       "    .dataframe tbody tr th {\n",
       "        vertical-align: top;\n",
       "    }\n",
       "\n",
       "    .dataframe thead th {\n",
       "        text-align: right;\n",
       "    }\n",
       "</style>\n",
       "<table border=\"1\" class=\"dataframe\">\n",
       "  <thead>\n",
       "    <tr style=\"text-align: right;\">\n",
       "      <th></th>\n",
       "      <th>first_name</th>\n",
       "      <th>last_name</th>\n",
       "      <th>complete_name</th>\n",
       "    </tr>\n",
       "  </thead>\n",
       "  <tbody>\n",
       "    <tr>\n",
       "      <th>21</th>\n",
       "      <td>Charles</td>\n",
       "      <td>Miner</td>\n",
       "      <td>Charles Miner</td>\n",
       "    </tr>\n",
       "    <tr>\n",
       "      <th>22</th>\n",
       "      <td>Deangelo</td>\n",
       "      <td>Vickers</td>\n",
       "      <td>Deangelo Vickers</td>\n",
       "    </tr>\n",
       "    <tr>\n",
       "      <th>23</th>\n",
       "      <td>Josh</td>\n",
       "      <td>Porter</td>\n",
       "      <td>Josh Porter</td>\n",
       "    </tr>\n",
       "    <tr>\n",
       "      <th>24</th>\n",
       "      <td>Ed</td>\n",
       "      <td>Truck</td>\n",
       "      <td>Ed Truck</td>\n",
       "    </tr>\n",
       "    <tr>\n",
       "      <th>26</th>\n",
       "      <td>David</td>\n",
       "      <td>Wallace</td>\n",
       "      <td>David Wallace</td>\n",
       "    </tr>\n",
       "  </tbody>\n",
       "</table>\n",
       "</div>"
      ],
      "text/plain": [
       "   first_name last_name     complete_name\n",
       "21    Charles     Miner     Charles Miner\n",
       "22   Deangelo   Vickers  Deangelo Vickers\n",
       "23       Josh    Porter       Josh Porter\n",
       "24         Ed     Truck          Ed Truck\n",
       "26      David   Wallace     David Wallace"
      ]
     },
     "execution_count": 51,
     "metadata": {},
     "output_type": "execute_result"
    }
   ],
   "source": [
    "update_df.tail()"
   ]
  },
  {
   "cell_type": "code",
   "execution_count": 52,
   "id": "454451c1",
   "metadata": {},
   "outputs": [],
   "source": [
    "update_df.to_csv('../data/apiextraction.csv', index=False)\n"
   ]
  }
 ],
 "metadata": {
  "kernelspec": {
   "display_name": "base",
   "language": "python",
   "name": "python3"
  },
  "language_info": {
   "codemirror_mode": {
    "name": "ipython",
    "version": 3
   },
   "file_extension": ".py",
   "mimetype": "text/x-python",
   "name": "python",
   "nbconvert_exporter": "python",
   "pygments_lexer": "ipython3",
   "version": "3.9.12 (main, Apr  4 2022, 05:22:27) [MSC v.1916 64 bit (AMD64)]"
  },
  "vscode": {
   "interpreter": {
    "hash": "2d12ee0532f5fe809fea6ed49d84e6d6e9be1b8657fb8079f6358b85f8ed0388"
   }
  }
 },
 "nbformat": 4,
 "nbformat_minor": 5
}
