{
 "cells": [
  {
   "cell_type": "code",
   "execution_count": 23,
   "id": "7773a741",
   "metadata": {},
   "outputs": [],
   "source": [
    "import requests\n",
    "import pandas as pd\n",
    "from time import sleep\n",
    "import numpy as np\n",
    "import sys\n",
    "sys.path.append(\"../\")\n",
    "\n",
    "import src.support as sp\n",
    "\n",
    "from selenium import webdriver\n",
    "from webdriver_manager.chrome import ChromeDriverManager\n",
    "from selenium.webdriver.common.keys import Keys\n",
    "from selenium.webdriver.chrome.options import Options\n",
    "\n",
    "import warnings\n",
    "warnings.filterwarnings('ignore')"
   ]
  },
  {
   "cell_type": "code",
   "execution_count": 24,
   "id": "541f40fc",
   "metadata": {},
   "outputs": [],
   "source": [
    "opciones = Options()\n",
    "opciones.add_experimental_option('excludeSwitches', ['enable-automation'])\n",
    "opciones.add_experimental_option('useAutomationExtension', False)\n",
    "opciones.add_argument('--start-maximized')\n",
    "opciones.add_argument('user.data-dir=selenium') \n",
    "opciones.add_argument('--incognito')"
   ]
  },
  {
   "cell_type": "code",
   "execution_count": 19,
   "id": "9967caa2",
   "metadata": {},
   "outputs": [],
   "source": [
    "df = pd.read_csv(\"../data/the_office_series.csv\", index_col = 0)"
   ]
  },
  {
   "cell_type": "code",
   "execution_count": 20,
   "id": "60f91a58",
   "metadata": {
    "scrolled": false
   },
   "outputs": [
    {
     "data": {
      "text/html": [
       "<div>\n",
       "<style scoped>\n",
       "    .dataframe tbody tr th:only-of-type {\n",
       "        vertical-align: middle;\n",
       "    }\n",
       "\n",
       "    .dataframe tbody tr th {\n",
       "        vertical-align: top;\n",
       "    }\n",
       "\n",
       "    .dataframe thead th {\n",
       "        text-align: right;\n",
       "    }\n",
       "</style>\n",
       "<table border=\"1\" class=\"dataframe\">\n",
       "  <thead>\n",
       "    <tr style=\"text-align: right;\">\n",
       "      <th></th>\n",
       "      <th>Season</th>\n",
       "      <th>EpisodeTitle</th>\n",
       "      <th>About</th>\n",
       "      <th>Ratings</th>\n",
       "      <th>Votes</th>\n",
       "      <th>Viewership</th>\n",
       "      <th>Duration</th>\n",
       "      <th>Date</th>\n",
       "      <th>GuestStars</th>\n",
       "      <th>Director</th>\n",
       "      <th>Writers</th>\n",
       "    </tr>\n",
       "  </thead>\n",
       "  <tbody>\n",
       "    <tr>\n",
       "      <th>0</th>\n",
       "      <td>1</td>\n",
       "      <td>Pilot</td>\n",
       "      <td>The premiere episode introduces the boss and s...</td>\n",
       "      <td>7.5</td>\n",
       "      <td>4936</td>\n",
       "      <td>11.2</td>\n",
       "      <td>23</td>\n",
       "      <td>24 March 2005</td>\n",
       "      <td>NaN</td>\n",
       "      <td>Ken Kwapis</td>\n",
       "      <td>Ricky Gervais |Stephen Merchant and Greg Daniels</td>\n",
       "    </tr>\n",
       "  </tbody>\n",
       "</table>\n",
       "</div>"
      ],
      "text/plain": [
       "   Season EpisodeTitle                                              About  \\\n",
       "0       1        Pilot  The premiere episode introduces the boss and s...   \n",
       "\n",
       "   Ratings  Votes  Viewership  Duration            Date GuestStars  \\\n",
       "0      7.5   4936        11.2        23   24 March 2005        NaN   \n",
       "\n",
       "     Director                                           Writers  \n",
       "0  Ken Kwapis  Ricky Gervais |Stephen Merchant and Greg Daniels  "
      ]
     },
     "execution_count": 20,
     "metadata": {},
     "output_type": "execute_result"
    }
   ],
   "source": [
    "df.head(1)"
   ]
  },
  {
   "cell_type": "code",
   "execution_count": 21,
   "id": "b6e8878f",
   "metadata": {},
   "outputs": [
    {
     "data": {
      "text/plain": [
       "188"
      ]
     },
     "execution_count": 21,
     "metadata": {},
     "output_type": "execute_result"
    }
   ],
   "source": [
    "len(df[\"EpisodeTitle\"])"
   ]
  },
  {
   "cell_type": "code",
   "execution_count": 22,
   "id": "41d43a24",
   "metadata": {},
   "outputs": [],
   "source": [
    "driver = webdriver.Chrome(ChromeDriverManager().install())\n",
    "result_list = []\n",
    "\n",
    "driver.get(\"https://www.imdb.com/title/tt0664521/\")\n",
    "sleep(3)\n",
    "for i in range(len(df[\"EpisodeTitle\"])):\n",
    "    try:\n",
    "        lista_principales = driver.find_element(\"css selector\", \"#__next > main > div > section.ipc-page-background.ipc-page-background--base.sc-9b716f3b-0.xBaTH > div > section > div > div.sc-4253d404-1.enxQRq.ipc-page-grid__item.ipc-page-grid__item--span-2 > section.ipc-page-section.ipc-page-section--base.sc-bfec09a1-0.gmonkL.title-cast.title-cast--episode.celwidget > div.ipc-shoveler.ipc-shoveler--base.ipc-shoveler--page0.title-cast__grid > div.ipc-sub-grid.ipc-sub-grid--page-span-2.ipc-sub-grid--wraps-at-above-l.ipc-shoveler__grid\").text\n",
    "        result_list.append(lista_principales)\n",
    "        driver.find_element(\"css selector\", \"#iconContext-arrow-right\").click()\n",
    "    except:\n",
    "        pass\n",
    "    "
   ]
  },
  {
   "cell_type": "code",
   "execution_count": 25,
   "id": "a25e1b49",
   "metadata": {
    "scrolled": true
   },
   "outputs": [
    {
     "data": {
      "text/plain": [
       "188"
      ]
     },
     "execution_count": 25,
     "metadata": {},
     "output_type": "execute_result"
    }
   ],
   "source": [
    "len(result_list)"
   ]
  },
  {
   "cell_type": "code",
   "execution_count": 26,
   "id": "6c5eb352",
   "metadata": {},
   "outputs": [
    {
     "data": {
      "text/plain": [
       "['Steve Carell\\nMichael Scott\\nRainn Wilson\\nDwight Schrute\\nJohn Krasinski\\nJim Halpert\\nJenna Fischer\\nPam Beesly\\nB.J. Novak\\nRyan Howard\\nMelora Hardin\\nJan Levinson-Gould\\nDavid Denman\\nRoy Anderson\\nLeslie David Baker\\nStanley Hudson\\nBrian Baumgartner\\nKevin Malone\\nAngela Kinsey\\nAngela Martin\\nHenriette Mantel\\nOffice Worker\\nMike McCaul\\nOffice Worker\\nOscar Nuñez\\nOscar Martinez(as Oscar Nunez)\\nPhyllis Smith\\nPhyllis Lapin\\nRandall Barnwell\\nMadsen(uncredited)\\nCreed Bratton\\nCreed Bratton(uncredited)\\nToby Huss\\nTodd Packer(voice)(uncredited)',\n",
       " 'Steve Carell\\nMichael Scott\\nRainn Wilson\\nDwight Schrute\\nJohn Krasinski\\nJim Halpert\\nJenna Fischer\\nPam Beesly\\nB.J. Novak\\nRyan Howard\\nLarry Wilmore\\nMr. Brown\\nLeslie David Baker\\nStanley Hudson\\nBrian Baumgartner\\nKevin Malone\\nKate Flannery\\nMeredith Palmer\\nMindy Kaling\\nKelly Kapoor\\nPaul Lieberstein\\nToby Flenderson\\nAngela Kinsey\\nAngela Martin\\nOscar Nuñez\\nOscar Martinez(as Oscar Nunez)\\nPhyllis Smith\\nPhyllis Lapin\\nCreed Bratton\\nCreed Bratton(uncredited)',\n",
       " 'Steve Carell\\nMichael Scott\\nRainn Wilson\\nDwight Schrute\\nJohn Krasinski\\nJim Halpert\\nJenna Fischer\\nPam Beesly\\nB.J. Novak\\nRyan Howard\\nMelora Hardin\\nJan Levinson-Gould\\nLeslie David Baker\\nStanley Hudson\\nBrian Baumgartner\\nKevin Malone\\nKate Flannery\\nMeredith Palmer\\nCharlie Hartsock\\nTravel Agent\\nMindy Kaling\\nKelly Kapoor\\nAngela Kinsey\\nAngela Martin\\nPaul Lieberstein\\nToby Flenderson\\nOscar Nuñez\\nOscar Martinez(as Oscar Nunez)\\nPhyllis Smith\\nPhyllis Lapin\\nCreed Bratton\\nCreed Bratton(uncredited)…']"
      ]
     },
     "execution_count": 26,
     "metadata": {},
     "output_type": "execute_result"
    }
   ],
   "source": [
    "result_list[:3]"
   ]
  },
  {
   "cell_type": "code",
   "execution_count": 27,
   "id": "0284a958",
   "metadata": {},
   "outputs": [
    {
     "data": {
      "text/plain": [
       "0      Steve Carell\\nMichael Scott\\nRainn Wilson\\nDwi...\n",
       "1      Steve Carell\\nMichael Scott\\nRainn Wilson\\nDwi...\n",
       "2      Steve Carell\\nMichael Scott\\nRainn Wilson\\nDwi...\n",
       "3      Steve Carell\\nMichael Scott\\nRainn Wilson\\nDwi...\n",
       "4      Steve Carell\\nMichael Scott\\nRainn Wilson\\nDwi...\n",
       "                             ...                        \n",
       "183    Rainn Wilson\\nDwight Schrute\\nJohn Krasinski\\n...\n",
       "184    Rainn Wilson\\nDwight Schrute\\nJohn Krasinski\\n...\n",
       "185    Rainn Wilson\\nDwight Schrute\\nJohn Krasinski\\n...\n",
       "186    Rainn Wilson\\nDwight Schrute\\nJohn Krasinski\\n...\n",
       "187    Rainn Wilson\\nDwight Schrute\\nJohn Krasinski\\n...\n",
       "Length: 188, dtype: object"
      ]
     },
     "execution_count": 27,
     "metadata": {},
     "output_type": "execute_result"
    }
   ],
   "source": [
    "series = pd.Series(result_list)\n",
    "series"
   ]
  },
  {
   "cell_type": "code",
   "execution_count": 28,
   "id": "3a847011",
   "metadata": {},
   "outputs": [],
   "source": [
    "df1 = series.to_frame()\n",
    "df1 = df1.rename(columns = {0:'item'})"
   ]
  },
  {
   "cell_type": "code",
   "execution_count": 29,
   "id": "43d3bb6d",
   "metadata": {},
   "outputs": [
    {
     "data": {
      "text/html": [
       "<div>\n",
       "<style scoped>\n",
       "    .dataframe tbody tr th:only-of-type {\n",
       "        vertical-align: middle;\n",
       "    }\n",
       "\n",
       "    .dataframe tbody tr th {\n",
       "        vertical-align: top;\n",
       "    }\n",
       "\n",
       "    .dataframe thead th {\n",
       "        text-align: right;\n",
       "    }\n",
       "</style>\n",
       "<table border=\"1\" class=\"dataframe\">\n",
       "  <thead>\n",
       "    <tr style=\"text-align: right;\">\n",
       "      <th></th>\n",
       "      <th>item</th>\n",
       "    </tr>\n",
       "  </thead>\n",
       "  <tbody>\n",
       "    <tr>\n",
       "      <th>0</th>\n",
       "      <td>Steve Carell\\nMichael Scott\\nRainn Wilson\\nDwi...</td>\n",
       "    </tr>\n",
       "    <tr>\n",
       "      <th>1</th>\n",
       "      <td>Steve Carell\\nMichael Scott\\nRainn Wilson\\nDwi...</td>\n",
       "    </tr>\n",
       "    <tr>\n",
       "      <th>2</th>\n",
       "      <td>Steve Carell\\nMichael Scott\\nRainn Wilson\\nDwi...</td>\n",
       "    </tr>\n",
       "    <tr>\n",
       "      <th>3</th>\n",
       "      <td>Steve Carell\\nMichael Scott\\nRainn Wilson\\nDwi...</td>\n",
       "    </tr>\n",
       "    <tr>\n",
       "      <th>4</th>\n",
       "      <td>Steve Carell\\nMichael Scott\\nRainn Wilson\\nDwi...</td>\n",
       "    </tr>\n",
       "  </tbody>\n",
       "</table>\n",
       "</div>"
      ],
      "text/plain": [
       "                                                item\n",
       "0  Steve Carell\\nMichael Scott\\nRainn Wilson\\nDwi...\n",
       "1  Steve Carell\\nMichael Scott\\nRainn Wilson\\nDwi...\n",
       "2  Steve Carell\\nMichael Scott\\nRainn Wilson\\nDwi...\n",
       "3  Steve Carell\\nMichael Scott\\nRainn Wilson\\nDwi...\n",
       "4  Steve Carell\\nMichael Scott\\nRainn Wilson\\nDwi..."
      ]
     },
     "execution_count": 29,
     "metadata": {},
     "output_type": "execute_result"
    }
   ],
   "source": [
    "df1.head()"
   ]
  },
  {
   "cell_type": "code",
   "execution_count": 30,
   "id": "a42657c4",
   "metadata": {},
   "outputs": [],
   "source": [
    "df1['item'] = df1['item'].str.split('\\n')"
   ]
  },
  {
   "cell_type": "code",
   "execution_count": 31,
   "id": "8dd11415",
   "metadata": {
    "scrolled": true
   },
   "outputs": [
    {
     "data": {
      "text/html": [
       "<div>\n",
       "<style scoped>\n",
       "    .dataframe tbody tr th:only-of-type {\n",
       "        vertical-align: middle;\n",
       "    }\n",
       "\n",
       "    .dataframe tbody tr th {\n",
       "        vertical-align: top;\n",
       "    }\n",
       "\n",
       "    .dataframe thead th {\n",
       "        text-align: right;\n",
       "    }\n",
       "</style>\n",
       "<table border=\"1\" class=\"dataframe\">\n",
       "  <thead>\n",
       "    <tr style=\"text-align: right;\">\n",
       "      <th></th>\n",
       "      <th>item</th>\n",
       "    </tr>\n",
       "  </thead>\n",
       "  <tbody>\n",
       "    <tr>\n",
       "      <th>0</th>\n",
       "      <td>[Steve Carell, Michael Scott, Rainn Wilson, Dw...</td>\n",
       "    </tr>\n",
       "    <tr>\n",
       "      <th>1</th>\n",
       "      <td>[Steve Carell, Michael Scott, Rainn Wilson, Dw...</td>\n",
       "    </tr>\n",
       "    <tr>\n",
       "      <th>2</th>\n",
       "      <td>[Steve Carell, Michael Scott, Rainn Wilson, Dw...</td>\n",
       "    </tr>\n",
       "    <tr>\n",
       "      <th>3</th>\n",
       "      <td>[Steve Carell, Michael Scott, Rainn Wilson, Dw...</td>\n",
       "    </tr>\n",
       "    <tr>\n",
       "      <th>4</th>\n",
       "      <td>[Steve Carell, Michael Scott, Rainn Wilson, Dw...</td>\n",
       "    </tr>\n",
       "  </tbody>\n",
       "</table>\n",
       "</div>"
      ],
      "text/plain": [
       "                                                item\n",
       "0  [Steve Carell, Michael Scott, Rainn Wilson, Dw...\n",
       "1  [Steve Carell, Michael Scott, Rainn Wilson, Dw...\n",
       "2  [Steve Carell, Michael Scott, Rainn Wilson, Dw...\n",
       "3  [Steve Carell, Michael Scott, Rainn Wilson, Dw...\n",
       "4  [Steve Carell, Michael Scott, Rainn Wilson, Dw..."
      ]
     },
     "execution_count": 31,
     "metadata": {},
     "output_type": "execute_result"
    }
   ],
   "source": [
    "df1.head()"
   ]
  },
  {
   "cell_type": "code",
   "execution_count": 32,
   "id": "387a1a08",
   "metadata": {},
   "outputs": [],
   "source": [
    "df1 = df1.drop([95, 108])"
   ]
  },
  {
   "cell_type": "code",
   "execution_count": 33,
   "id": "59890e4f",
   "metadata": {},
   "outputs": [],
   "source": [
    "df1 = sp.reset_and_rename_index(df1, \"episode_id\")"
   ]
  },
  {
   "cell_type": "code",
   "execution_count": 34,
   "id": "aa347ccb",
   "metadata": {},
   "outputs": [
    {
     "data": {
      "text/html": [
       "<div>\n",
       "<style scoped>\n",
       "    .dataframe tbody tr th:only-of-type {\n",
       "        vertical-align: middle;\n",
       "    }\n",
       "\n",
       "    .dataframe tbody tr th {\n",
       "        vertical-align: top;\n",
       "    }\n",
       "\n",
       "    .dataframe thead th {\n",
       "        text-align: right;\n",
       "    }\n",
       "</style>\n",
       "<table border=\"1\" class=\"dataframe\">\n",
       "  <thead>\n",
       "    <tr style=\"text-align: right;\">\n",
       "      <th></th>\n",
       "      <th>episode_id</th>\n",
       "      <th>item</th>\n",
       "    </tr>\n",
       "  </thead>\n",
       "  <tbody>\n",
       "    <tr>\n",
       "      <th>181</th>\n",
       "      <td>181</td>\n",
       "      <td>[Rainn Wilson, Dwight Schrute, John Krasinski,...</td>\n",
       "    </tr>\n",
       "    <tr>\n",
       "      <th>182</th>\n",
       "      <td>182</td>\n",
       "      <td>[Rainn Wilson, Dwight Schrute, John Krasinski,...</td>\n",
       "    </tr>\n",
       "    <tr>\n",
       "      <th>183</th>\n",
       "      <td>183</td>\n",
       "      <td>[Rainn Wilson, Dwight Schrute, John Krasinski,...</td>\n",
       "    </tr>\n",
       "    <tr>\n",
       "      <th>184</th>\n",
       "      <td>184</td>\n",
       "      <td>[Rainn Wilson, Dwight Schrute, John Krasinski,...</td>\n",
       "    </tr>\n",
       "    <tr>\n",
       "      <th>185</th>\n",
       "      <td>185</td>\n",
       "      <td>[Rainn Wilson, Dwight Schrute, John Krasinski,...</td>\n",
       "    </tr>\n",
       "  </tbody>\n",
       "</table>\n",
       "</div>"
      ],
      "text/plain": [
       "     episode_id                                               item\n",
       "181         181  [Rainn Wilson, Dwight Schrute, John Krasinski,...\n",
       "182         182  [Rainn Wilson, Dwight Schrute, John Krasinski,...\n",
       "183         183  [Rainn Wilson, Dwight Schrute, John Krasinski,...\n",
       "184         184  [Rainn Wilson, Dwight Schrute, John Krasinski,...\n",
       "185         185  [Rainn Wilson, Dwight Schrute, John Krasinski,..."
      ]
     },
     "execution_count": 34,
     "metadata": {},
     "output_type": "execute_result"
    }
   ],
   "source": [
    "df1.tail()"
   ]
  },
  {
   "cell_type": "code",
   "execution_count": 35,
   "id": "a02dd1e1",
   "metadata": {},
   "outputs": [],
   "source": [
    "df1 = df1.explode('item')"
   ]
  },
  {
   "cell_type": "code",
   "execution_count": 36,
   "id": "98b39860",
   "metadata": {},
   "outputs": [
    {
     "data": {
      "text/html": [
       "<div>\n",
       "<style scoped>\n",
       "    .dataframe tbody tr th:only-of-type {\n",
       "        vertical-align: middle;\n",
       "    }\n",
       "\n",
       "    .dataframe tbody tr th {\n",
       "        vertical-align: top;\n",
       "    }\n",
       "\n",
       "    .dataframe thead th {\n",
       "        text-align: right;\n",
       "    }\n",
       "</style>\n",
       "<table border=\"1\" class=\"dataframe\">\n",
       "  <thead>\n",
       "    <tr style=\"text-align: right;\">\n",
       "      <th></th>\n",
       "      <th>episode_id</th>\n",
       "      <th>item</th>\n",
       "    </tr>\n",
       "  </thead>\n",
       "  <tbody>\n",
       "    <tr>\n",
       "      <th>185</th>\n",
       "      <td>185</td>\n",
       "      <td>Ryan Howard</td>\n",
       "    </tr>\n",
       "    <tr>\n",
       "      <th>185</th>\n",
       "      <td>185</td>\n",
       "      <td>Oscar Nuñez</td>\n",
       "    </tr>\n",
       "    <tr>\n",
       "      <th>185</th>\n",
       "      <td>185</td>\n",
       "      <td>Oscar Martinez(as Oscar Nunez)</td>\n",
       "    </tr>\n",
       "    <tr>\n",
       "      <th>185</th>\n",
       "      <td>185</td>\n",
       "      <td>Craig Robinson</td>\n",
       "    </tr>\n",
       "    <tr>\n",
       "      <th>185</th>\n",
       "      <td>185</td>\n",
       "      <td>Darryl Philbin</td>\n",
       "    </tr>\n",
       "  </tbody>\n",
       "</table>\n",
       "</div>"
      ],
      "text/plain": [
       "     episode_id                            item\n",
       "185         185                     Ryan Howard\n",
       "185         185                     Oscar Nuñez\n",
       "185         185  Oscar Martinez(as Oscar Nunez)\n",
       "185         185                  Craig Robinson\n",
       "185         185                  Darryl Philbin"
      ]
     },
     "execution_count": 36,
     "metadata": {},
     "output_type": "execute_result"
    }
   ],
   "source": [
    "df1.tail()"
   ]
  },
  {
   "cell_type": "code",
   "execution_count": 37,
   "id": "f83f551b",
   "metadata": {},
   "outputs": [
    {
     "data": {
      "text/html": [
       "<div>\n",
       "<style scoped>\n",
       "    .dataframe tbody tr th:only-of-type {\n",
       "        vertical-align: middle;\n",
       "    }\n",
       "\n",
       "    .dataframe tbody tr th {\n",
       "        vertical-align: top;\n",
       "    }\n",
       "\n",
       "    .dataframe thead th {\n",
       "        text-align: right;\n",
       "    }\n",
       "</style>\n",
       "<table border=\"1\" class=\"dataframe\">\n",
       "  <thead>\n",
       "    <tr style=\"text-align: right;\">\n",
       "      <th></th>\n",
       "      <th>episode_id</th>\n",
       "      <th>item</th>\n",
       "    </tr>\n",
       "  </thead>\n",
       "  <tbody>\n",
       "    <tr>\n",
       "      <th>185</th>\n",
       "      <td>185</td>\n",
       "      <td>Ryan Howard</td>\n",
       "    </tr>\n",
       "    <tr>\n",
       "      <th>185</th>\n",
       "      <td>185</td>\n",
       "      <td>Oscar Nuñez</td>\n",
       "    </tr>\n",
       "    <tr>\n",
       "      <th>185</th>\n",
       "      <td>185</td>\n",
       "      <td>Oscar Martinez</td>\n",
       "    </tr>\n",
       "    <tr>\n",
       "      <th>185</th>\n",
       "      <td>185</td>\n",
       "      <td>Craig Robinson</td>\n",
       "    </tr>\n",
       "    <tr>\n",
       "      <th>185</th>\n",
       "      <td>185</td>\n",
       "      <td>Darryl Philbin</td>\n",
       "    </tr>\n",
       "  </tbody>\n",
       "</table>\n",
       "</div>"
      ],
      "text/plain": [
       "     episode_id             item\n",
       "185         185      Ryan Howard\n",
       "185         185      Oscar Nuñez\n",
       "185         185  Oscar Martinez \n",
       "185         185   Craig Robinson\n",
       "185         185   Darryl Philbin"
      ]
     },
     "execution_count": 37,
     "metadata": {},
     "output_type": "execute_result"
    }
   ],
   "source": [
    "#para sacar el () de oscar\n",
    "df1[\"item\"] = df1[\"item\"].str.replace(r\"(\\s*\\(.*?\\)\\s*)\", \" \", regex=True)\n",
    "df1.tail()"
   ]
  },
  {
   "cell_type": "code",
   "execution_count": 38,
   "id": "380c8293",
   "metadata": {
    "scrolled": true
   },
   "outputs": [
    {
     "data": {
      "text/html": [
       "<div>\n",
       "<style scoped>\n",
       "    .dataframe tbody tr th:only-of-type {\n",
       "        vertical-align: middle;\n",
       "    }\n",
       "\n",
       "    .dataframe tbody tr th {\n",
       "        vertical-align: top;\n",
       "    }\n",
       "\n",
       "    .dataframe thead th {\n",
       "        text-align: right;\n",
       "    }\n",
       "</style>\n",
       "<table border=\"1\" class=\"dataframe\">\n",
       "  <thead>\n",
       "    <tr style=\"text-align: right;\">\n",
       "      <th></th>\n",
       "      <th>episode_id</th>\n",
       "      <th>item</th>\n",
       "    </tr>\n",
       "  </thead>\n",
       "  <tbody>\n",
       "    <tr>\n",
       "      <th>0</th>\n",
       "      <td>0</td>\n",
       "      <td>Steve Carell</td>\n",
       "    </tr>\n",
       "    <tr>\n",
       "      <th>0</th>\n",
       "      <td>0</td>\n",
       "      <td>Michael Scott</td>\n",
       "    </tr>\n",
       "    <tr>\n",
       "      <th>0</th>\n",
       "      <td>0</td>\n",
       "      <td>Rainn Wilson</td>\n",
       "    </tr>\n",
       "    <tr>\n",
       "      <th>0</th>\n",
       "      <td>0</td>\n",
       "      <td>Dwight Schrute</td>\n",
       "    </tr>\n",
       "    <tr>\n",
       "      <th>0</th>\n",
       "      <td>0</td>\n",
       "      <td>John Krasinski</td>\n",
       "    </tr>\n",
       "  </tbody>\n",
       "</table>\n",
       "</div>"
      ],
      "text/plain": [
       "   episode_id            item\n",
       "0           0    Steve Carell\n",
       "0           0   Michael Scott\n",
       "0           0    Rainn Wilson\n",
       "0           0  Dwight Schrute\n",
       "0           0  John Krasinski"
      ]
     },
     "execution_count": 38,
     "metadata": {},
     "output_type": "execute_result"
    }
   ],
   "source": [
    "#para sacar el - de jan\n",
    "df1[\"item\"] = df1['item'].str.split('-').str[0]\n",
    "df1.head(5)"
   ]
  },
  {
   "cell_type": "code",
   "execution_count": 39,
   "id": "7da5065d",
   "metadata": {},
   "outputs": [
    {
     "data": {
      "text/html": [
       "<div>\n",
       "<style scoped>\n",
       "    .dataframe tbody tr th:only-of-type {\n",
       "        vertical-align: middle;\n",
       "    }\n",
       "\n",
       "    .dataframe tbody tr th {\n",
       "        vertical-align: top;\n",
       "    }\n",
       "\n",
       "    .dataframe thead th {\n",
       "        text-align: right;\n",
       "    }\n",
       "</style>\n",
       "<table border=\"1\" class=\"dataframe\">\n",
       "  <thead>\n",
       "    <tr style=\"text-align: right;\">\n",
       "      <th></th>\n",
       "      <th>episode_id</th>\n",
       "      <th>complete_name</th>\n",
       "    </tr>\n",
       "  </thead>\n",
       "  <tbody>\n",
       "    <tr>\n",
       "      <th>0</th>\n",
       "      <td>0</td>\n",
       "      <td>Steve Carell</td>\n",
       "    </tr>\n",
       "    <tr>\n",
       "      <th>0</th>\n",
       "      <td>0</td>\n",
       "      <td>Michael Scott</td>\n",
       "    </tr>\n",
       "    <tr>\n",
       "      <th>0</th>\n",
       "      <td>0</td>\n",
       "      <td>Rainn Wilson</td>\n",
       "    </tr>\n",
       "    <tr>\n",
       "      <th>0</th>\n",
       "      <td>0</td>\n",
       "      <td>Dwight Schrute</td>\n",
       "    </tr>\n",
       "    <tr>\n",
       "      <th>0</th>\n",
       "      <td>0</td>\n",
       "      <td>John Krasinski</td>\n",
       "    </tr>\n",
       "  </tbody>\n",
       "</table>\n",
       "</div>"
      ],
      "text/plain": [
       "   episode_id   complete_name\n",
       "0           0    Steve Carell\n",
       "0           0   Michael Scott\n",
       "0           0    Rainn Wilson\n",
       "0           0  Dwight Schrute\n",
       "0           0  John Krasinski"
      ]
     },
     "execution_count": 39,
     "metadata": {},
     "output_type": "execute_result"
    }
   ],
   "source": [
    "df1 = df1.rename(columns={\"item\": \"complete_name\"})\n",
    "df1.head()"
   ]
  },
  {
   "cell_type": "code",
   "execution_count": 40,
   "id": "4246224d",
   "metadata": {},
   "outputs": [],
   "source": [
    "df1[\"complete_name\"] = df1[\"complete_name\"].str.strip()"
   ]
  },
  {
   "cell_type": "code",
   "execution_count": 41,
   "id": "aa283650",
   "metadata": {},
   "outputs": [
    {
     "data": {
      "text/html": [
       "<div>\n",
       "<style scoped>\n",
       "    .dataframe tbody tr th:only-of-type {\n",
       "        vertical-align: middle;\n",
       "    }\n",
       "\n",
       "    .dataframe tbody tr th {\n",
       "        vertical-align: top;\n",
       "    }\n",
       "\n",
       "    .dataframe thead th {\n",
       "        text-align: right;\n",
       "    }\n",
       "</style>\n",
       "<table border=\"1\" class=\"dataframe\">\n",
       "  <thead>\n",
       "    <tr style=\"text-align: right;\">\n",
       "      <th></th>\n",
       "      <th>first_name</th>\n",
       "      <th>last_name</th>\n",
       "      <th>complete_name</th>\n",
       "    </tr>\n",
       "  </thead>\n",
       "  <tbody>\n",
       "    <tr>\n",
       "      <th>0</th>\n",
       "      <td>Michael</td>\n",
       "      <td>Scott</td>\n",
       "      <td>Michael Scott</td>\n",
       "    </tr>\n",
       "    <tr>\n",
       "      <th>1</th>\n",
       "      <td>Jim</td>\n",
       "      <td>Halpert</td>\n",
       "      <td>Jim Halpert</td>\n",
       "    </tr>\n",
       "    <tr>\n",
       "      <th>2</th>\n",
       "      <td>Dwight</td>\n",
       "      <td>Schrute</td>\n",
       "      <td>Dwight Schrute</td>\n",
       "    </tr>\n",
       "    <tr>\n",
       "      <th>3</th>\n",
       "      <td>Pam</td>\n",
       "      <td>Beesly</td>\n",
       "      <td>Pam Beesly</td>\n",
       "    </tr>\n",
       "    <tr>\n",
       "      <th>4</th>\n",
       "      <td>Ryan</td>\n",
       "      <td>Howard</td>\n",
       "      <td>Ryan Howard</td>\n",
       "    </tr>\n",
       "  </tbody>\n",
       "</table>\n",
       "</div>"
      ],
      "text/plain": [
       "  first_name last_name   complete_name\n",
       "0    Michael     Scott   Michael Scott\n",
       "1        Jim   Halpert     Jim Halpert\n",
       "2     Dwight   Schrute  Dwight Schrute\n",
       "3        Pam    Beesly      Pam Beesly\n",
       "4       Ryan    Howard     Ryan Howard"
      ]
     },
     "execution_count": 41,
     "metadata": {},
     "output_type": "execute_result"
    }
   ],
   "source": [
    "df_api = pd.read_csv(\"../data/apiextraction.csv\")\n",
    "df_api.head()"
   ]
  },
  {
   "cell_type": "code",
   "execution_count": 42,
   "id": "2f417ba1",
   "metadata": {},
   "outputs": [],
   "source": [
    "left_merged = pd.merge(df1, df_api, how=\"left\", on=[\"complete_name\"])"
   ]
  },
  {
   "cell_type": "code",
   "execution_count": 43,
   "id": "c329993f",
   "metadata": {},
   "outputs": [],
   "source": [
    "left_merged = left_merged.dropna()"
   ]
  },
  {
   "cell_type": "code",
   "execution_count": 44,
   "id": "b443ea54",
   "metadata": {},
   "outputs": [
    {
     "data": {
      "text/html": [
       "<div>\n",
       "<style scoped>\n",
       "    .dataframe tbody tr th:only-of-type {\n",
       "        vertical-align: middle;\n",
       "    }\n",
       "\n",
       "    .dataframe tbody tr th {\n",
       "        vertical-align: top;\n",
       "    }\n",
       "\n",
       "    .dataframe thead th {\n",
       "        text-align: right;\n",
       "    }\n",
       "</style>\n",
       "<table border=\"1\" class=\"dataframe\">\n",
       "  <thead>\n",
       "    <tr style=\"text-align: right;\">\n",
       "      <th></th>\n",
       "      <th>episode_id</th>\n",
       "      <th>complete_name</th>\n",
       "      <th>first_name</th>\n",
       "      <th>last_name</th>\n",
       "    </tr>\n",
       "  </thead>\n",
       "  <tbody>\n",
       "    <tr>\n",
       "      <th>6581</th>\n",
       "      <td>185</td>\n",
       "      <td>Erin Hannon</td>\n",
       "      <td>Erin</td>\n",
       "      <td>Hannon</td>\n",
       "    </tr>\n",
       "    <tr>\n",
       "      <th>6587</th>\n",
       "      <td>185</td>\n",
       "      <td>Toby Flenderson</td>\n",
       "      <td>Toby</td>\n",
       "      <td>Flenderson</td>\n",
       "    </tr>\n",
       "    <tr>\n",
       "      <th>6589</th>\n",
       "      <td>185</td>\n",
       "      <td>Ryan Howard</td>\n",
       "      <td>Ryan</td>\n",
       "      <td>Howard</td>\n",
       "    </tr>\n",
       "    <tr>\n",
       "      <th>6591</th>\n",
       "      <td>185</td>\n",
       "      <td>Oscar Martinez</td>\n",
       "      <td>Oscar</td>\n",
       "      <td>Martinez</td>\n",
       "    </tr>\n",
       "    <tr>\n",
       "      <th>6593</th>\n",
       "      <td>185</td>\n",
       "      <td>Darryl Philbin</td>\n",
       "      <td>Darryl</td>\n",
       "      <td>Philbin</td>\n",
       "    </tr>\n",
       "  </tbody>\n",
       "</table>\n",
       "</div>"
      ],
      "text/plain": [
       "      episode_id    complete_name first_name   last_name\n",
       "6581         185      Erin Hannon       Erin      Hannon\n",
       "6587         185  Toby Flenderson       Toby  Flenderson\n",
       "6589         185      Ryan Howard       Ryan      Howard\n",
       "6591         185   Oscar Martinez      Oscar    Martinez\n",
       "6593         185   Darryl Philbin     Darryl     Philbin"
      ]
     },
     "execution_count": 44,
     "metadata": {},
     "output_type": "execute_result"
    }
   ],
   "source": [
    "left_merged.tail()"
   ]
  },
  {
   "cell_type": "code",
   "execution_count": 45,
   "id": "6695e047",
   "metadata": {},
   "outputs": [
    {
     "data": {
      "text/html": [
       "<div>\n",
       "<style scoped>\n",
       "    .dataframe tbody tr th:only-of-type {\n",
       "        vertical-align: middle;\n",
       "    }\n",
       "\n",
       "    .dataframe tbody tr th {\n",
       "        vertical-align: top;\n",
       "    }\n",
       "\n",
       "    .dataframe thead th {\n",
       "        text-align: right;\n",
       "    }\n",
       "</style>\n",
       "<table border=\"1\" class=\"dataframe\">\n",
       "  <thead>\n",
       "    <tr style=\"text-align: right;\">\n",
       "      <th></th>\n",
       "      <th>episode_id</th>\n",
       "      <th>complete_name</th>\n",
       "      <th>first_name</th>\n",
       "      <th>last_name</th>\n",
       "    </tr>\n",
       "  </thead>\n",
       "  <tbody>\n",
       "    <tr>\n",
       "      <th>1</th>\n",
       "      <td>0</td>\n",
       "      <td>Michael Scott</td>\n",
       "      <td>Michael</td>\n",
       "      <td>Scott</td>\n",
       "    </tr>\n",
       "    <tr>\n",
       "      <th>3</th>\n",
       "      <td>0</td>\n",
       "      <td>Dwight Schrute</td>\n",
       "      <td>Dwight</td>\n",
       "      <td>Schrute</td>\n",
       "    </tr>\n",
       "    <tr>\n",
       "      <th>5</th>\n",
       "      <td>0</td>\n",
       "      <td>Jim Halpert</td>\n",
       "      <td>Jim</td>\n",
       "      <td>Halpert</td>\n",
       "    </tr>\n",
       "    <tr>\n",
       "      <th>7</th>\n",
       "      <td>0</td>\n",
       "      <td>Pam Beesly</td>\n",
       "      <td>Pam</td>\n",
       "      <td>Beesly</td>\n",
       "    </tr>\n",
       "    <tr>\n",
       "      <th>9</th>\n",
       "      <td>0</td>\n",
       "      <td>Ryan Howard</td>\n",
       "      <td>Ryan</td>\n",
       "      <td>Howard</td>\n",
       "    </tr>\n",
       "  </tbody>\n",
       "</table>\n",
       "</div>"
      ],
      "text/plain": [
       "   episode_id   complete_name first_name last_name\n",
       "1           0   Michael Scott    Michael     Scott\n",
       "3           0  Dwight Schrute     Dwight   Schrute\n",
       "5           0     Jim Halpert        Jim   Halpert\n",
       "7           0      Pam Beesly        Pam    Beesly\n",
       "9           0     Ryan Howard       Ryan    Howard"
      ]
     },
     "execution_count": 45,
     "metadata": {},
     "output_type": "execute_result"
    }
   ],
   "source": [
    "#creed has the same name, drop creeds\n",
    "left_merged = left_merged.drop_duplicates()\n",
    "left_merged.head()"
   ]
  },
  {
   "cell_type": "code",
   "execution_count": 57,
   "id": "1121c680",
   "metadata": {},
   "outputs": [],
   "source": [
    "left_merged.to_csv('charactersepisode.csv', index=False)"
   ]
  },
  {
   "cell_type": "code",
   "execution_count": null,
   "id": "355b7f2f",
   "metadata": {},
   "outputs": [],
   "source": []
  }
 ],
 "metadata": {
  "kernelspec": {
   "display_name": "Python 3 (ipykernel)",
   "language": "python",
   "name": "python3"
  },
  "language_info": {
   "codemirror_mode": {
    "name": "ipython",
    "version": 3
   },
   "file_extension": ".py",
   "mimetype": "text/x-python",
   "name": "python",
   "nbconvert_exporter": "python",
   "pygments_lexer": "ipython3",
   "version": "3.9.12"
  }
 },
 "nbformat": 4,
 "nbformat_minor": 5
}
